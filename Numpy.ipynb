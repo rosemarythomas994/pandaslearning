{
  "nbformat": 4,
  "nbformat_minor": 0,
  "metadata": {
    "colab": {
      "provenance": [],
      "include_colab_link": true
    },
    "kernelspec": {
      "name": "python3",
      "display_name": "Python 3"
    },
    "language_info": {
      "name": "python"
    }
  },
  "cells": [
    {
      "cell_type": "markdown",
      "metadata": {
        "id": "view-in-github",
        "colab_type": "text"
      },
      "source": [
        "<a href=\"https://colab.research.google.com/github/rosemarythomas994/pandaslearning/blob/main/Numpy.ipynb\" target=\"_parent\"><img src=\"https://colab.research.google.com/assets/colab-badge.svg\" alt=\"Open In Colab\"/></a>"
      ]
    },
    {
      "cell_type": "markdown",
      "source": [
        "# NUMPY"
      ],
      "metadata": {
        "id": "zUZy1NPEP546"
      }
    },
    {
      "cell_type": "markdown",
      "source": [
        "NumPy is a Python library.\n",
        "\n",
        "NumPy is used for working with arrays.\n",
        "\n",
        "NumPy is short for \"Numerical Python\".\n",
        "\n",
        "NumPy Faster Than Lists.\n",
        "NumPy arrays are stored at one continuous place in memory unlike lists, so processes can access and manipulate them very efficiently."
      ],
      "metadata": {
        "id": "oCZTvQpiP_Xl"
      }
    },
    {
      "cell_type": "markdown",
      "source": [
        "**Numpy Installation**\n",
        "\n",
        "pip install numpy"
      ],
      "metadata": {
        "id": "oECdHwH4Q_-F"
      }
    },
    {
      "cell_type": "code",
      "source": [
        "import numpy as np"
      ],
      "metadata": {
        "id": "8hSmrFdQBvAl"
      },
      "execution_count": null,
      "outputs": []
    },
    {
      "cell_type": "code",
      "source": [
        "# array() function is used create arrays"
      ],
      "metadata": {
        "id": "M1otpouMCF2w"
      },
      "execution_count": null,
      "outputs": []
    },
    {
      "cell_type": "code",
      "source": [
        "# 1-D ARRAY\n",
        "a = np.array([1,2,3,4])   # 1-D - An array that has 0-D arrays as it's elements\n",
        "print(a)"
      ],
      "metadata": {
        "colab": {
          "base_uri": "https://localhost:8080/"
        },
        "id": "VDjV6z3kCPgT",
        "outputId": "f728b227-8ce2-452b-a179-9237589e0b97"
      },
      "execution_count": null,
      "outputs": [
        {
          "output_type": "stream",
          "name": "stdout",
          "text": [
            "[1 2 3 4]\n"
          ]
        }
      ]
    },
    {
      "cell_type": "code",
      "source": [
        "print(type(a))"
      ],
      "metadata": {
        "colab": {
          "base_uri": "https://localhost:8080/"
        },
        "id": "bbE_SEsUCmIl",
        "outputId": "ca30130e-8a08-48bc-f463-b8e7b726485a"
      },
      "execution_count": null,
      "outputs": [
        {
          "output_type": "stream",
          "name": "stdout",
          "text": [
            "<class 'numpy.ndarray'>\n"
          ]
        }
      ]
    },
    {
      "cell_type": "code",
      "source": [
        "# Dimension in arrays\n",
        "# 0-D or scalar array- elements in an array\n",
        "zero_dim = np.array(600)\n",
        "print(zero_dim)"
      ],
      "metadata": {
        "colab": {
          "base_uri": "https://localhost:8080/"
        },
        "id": "e05mDEkVCweC",
        "outputId": "f334670e-e4ed-4c1e-98b9-588f291d1ae8"
      },
      "execution_count": null,
      "outputs": [
        {
          "output_type": "stream",
          "name": "stdout",
          "text": [
            "600\n"
          ]
        }
      ]
    },
    {
      "cell_type": "code",
      "source": [
        "# 2-D array - An array that has 1-D arrays as it's elements.\n",
        "two_dim = np.array([[1,2,4,7],[10,11,20,30],[0,0,0,0]])\n",
        "print(two_dim)"
      ],
      "metadata": {
        "colab": {
          "base_uri": "https://localhost:8080/"
        },
        "id": "g7CidDM4DKbJ",
        "outputId": "73899341-237e-49af-8995-fa74ff4c4004"
      },
      "execution_count": null,
      "outputs": [
        {
          "output_type": "stream",
          "name": "stdout",
          "text": [
            "[[ 1  2  4  7]\n",
            " [10 11 20 30]\n",
            " [ 0  0  0  0]]\n"
          ]
        }
      ]
    },
    {
      "cell_type": "code",
      "source": [
        "# 3-D array - An array that has 2-D arrays as it's elements.\n",
        "three_dim = np.array([[[10,20,30],[40,50,60]],[[10,20,30],[40,50,60]]])\n",
        "print(three_dim)"
      ],
      "metadata": {
        "colab": {
          "base_uri": "https://localhost:8080/"
        },
        "id": "jZJOAGmvD25X",
        "outputId": "ed7da06d-95b1-4e4c-e620-3e48c72e1176"
      },
      "execution_count": null,
      "outputs": [
        {
          "output_type": "stream",
          "name": "stdout",
          "text": [
            "[[[10 20 30]\n",
            "  [40 50 60]]\n",
            "\n",
            " [[10 20 30]\n",
            "  [40 50 60]]]\n"
          ]
        }
      ]
    },
    {
      "cell_type": "code",
      "source": [
        "# 4-D array - An array that has 3-D arrays as it's elements.\n",
        "four_dim = np.array([[[[1,2,3]],[[4,5,6]]],[[[4,5,6]],[[7,8,9]]]])\n",
        "four_dim"
      ],
      "metadata": {
        "colab": {
          "base_uri": "https://localhost:8080/"
        },
        "id": "1OlnIOHpElI4",
        "outputId": "cf7bff4d-7ebf-4c5b-ffb6-a9b5caaa7616"
      },
      "execution_count": null,
      "outputs": [
        {
          "output_type": "execute_result",
          "data": {
            "text/plain": [
              "array([[[[1, 2, 3]],\n",
              "\n",
              "        [[4, 5, 6]]],\n",
              "\n",
              "\n",
              "       [[[4, 5, 6]],\n",
              "\n",
              "        [[7, 8, 9]]]])"
            ]
          },
          "metadata": {},
          "execution_count": 18
        }
      ]
    },
    {
      "cell_type": "code",
      "source": [
        "# ndim - to check the dimensions of an array\n",
        "print(zero_dim.ndim)\n",
        "print(a.ndim)\n",
        "print(two_dim.ndim)\n",
        "print(three_dim.ndim)\n"
      ],
      "metadata": {
        "colab": {
          "base_uri": "https://localhost:8080/"
        },
        "id": "q1qAohiAFIu1",
        "outputId": "dd9c4161-05cd-4d7f-9ea0-87ca9bc70c51"
      },
      "execution_count": null,
      "outputs": [
        {
          "output_type": "stream",
          "name": "stdout",
          "text": [
            "0\n",
            "1\n",
            "2\n",
            "3\n"
          ]
        }
      ]
    },
    {
      "cell_type": "code",
      "source": [
        "# ndmin argument - to define the number of dimensions\n",
        "b = np.array([10,15,20,15,20],ndmin=8)\n",
        "print(b)\n",
        "print(b.ndim)"
      ],
      "metadata": {
        "colab": {
          "base_uri": "https://localhost:8080/"
        },
        "id": "woDOVD0gGFkJ",
        "outputId": "b60012a2-f6d8-47f8-d041-02dad0332616"
      },
      "execution_count": null,
      "outputs": [
        {
          "output_type": "stream",
          "name": "stdout",
          "text": [
            "[[[[[[[[10 15 20 15 20]]]]]]]]\n",
            "8\n"
          ]
        }
      ]
    },
    {
      "cell_type": "code",
      "source": [
        "# ARRAY INDEXING\n",
        "# positive indexing - start :0 ----> end : length(number of items)-1\n",
        "# array_name[index]\n",
        "\n",
        "# SLICING:\n",
        "# array_name[start_index:end_index:step]  end_index excluded"
      ],
      "metadata": {
        "id": "nh8rm_ZXG5XS"
      },
      "execution_count": null,
      "outputs": []
    },
    {
      "cell_type": "code",
      "source": [
        "c = np.array([11,22,33,44,55,66,77,88,99])\n",
        "print(c[0])\n",
        "print(c[2])"
      ],
      "metadata": {
        "colab": {
          "base_uri": "https://localhost:8080/"
        },
        "id": "gDxoX6WJHoLt",
        "outputId": "98760f7a-32f7-4229-9c3b-975a127fbbd0"
      },
      "execution_count": null,
      "outputs": [
        {
          "output_type": "stream",
          "name": "stdout",
          "text": [
            "11\n",
            "33\n"
          ]
        }
      ]
    },
    {
      "cell_type": "code",
      "source": [
        "print(c[1:7:1])"
      ],
      "metadata": {
        "colab": {
          "base_uri": "https://localhost:8080/"
        },
        "id": "5z6XI346H_kF",
        "outputId": "18551062-b12c-42b5-b469-8103cd45b91b"
      },
      "execution_count": null,
      "outputs": [
        {
          "output_type": "stream",
          "name": "stdout",
          "text": [
            "[22 33 44 55 66 77]\n"
          ]
        }
      ]
    },
    {
      "cell_type": "code",
      "source": [
        "print(c[:])"
      ],
      "metadata": {
        "colab": {
          "base_uri": "https://localhost:8080/"
        },
        "id": "5CL2jtfTIuiw",
        "outputId": "b24c48e0-87d6-41df-9afb-ed2c0c263043"
      },
      "execution_count": null,
      "outputs": [
        {
          "output_type": "stream",
          "name": "stdout",
          "text": [
            "[11 22 33 44 55]\n"
          ]
        }
      ]
    },
    {
      "cell_type": "code",
      "source": [
        "print(c[1:7:3])"
      ],
      "metadata": {
        "colab": {
          "base_uri": "https://localhost:8080/"
        },
        "id": "vnhvBUaYI9M-",
        "outputId": "a3933862-bdbc-438b-951e-492428d2730a"
      },
      "execution_count": null,
      "outputs": [
        {
          "output_type": "stream",
          "name": "stdout",
          "text": [
            "[22 55]\n"
          ]
        }
      ]
    },
    {
      "cell_type": "code",
      "source": [
        "arr = np.array([[1,2,3],[4,5,6]])\n",
        "print(arr[0])\n",
        "print(arr[1])"
      ],
      "metadata": {
        "colab": {
          "base_uri": "https://localhost:8080/"
        },
        "id": "Glsr2VStJdwo",
        "outputId": "0c057d67-0553-4fb4-814e-c381e176daa6"
      },
      "execution_count": null,
      "outputs": [
        {
          "output_type": "stream",
          "name": "stdout",
          "text": [
            "[1 2 3]\n",
            "[4 5 6]\n"
          ]
        }
      ]
    },
    {
      "cell_type": "code",
      "source": [
        "print(arr[0,2])"
      ],
      "metadata": {
        "colab": {
          "base_uri": "https://localhost:8080/"
        },
        "id": "-dYiulEfKDJF",
        "outputId": "05be8c05-c443-40f7-dca1-baae324ec374"
      },
      "execution_count": null,
      "outputs": [
        {
          "output_type": "stream",
          "name": "stdout",
          "text": [
            "3\n"
          ]
        }
      ]
    },
    {
      "cell_type": "code",
      "source": [
        "print(arr[1,1])"
      ],
      "metadata": {
        "colab": {
          "base_uri": "https://localhost:8080/"
        },
        "id": "n4RSe0nNKVVJ",
        "outputId": "661c4d9d-2dcc-4787-cb6a-ee5ba9f922a5"
      },
      "execution_count": null,
      "outputs": [
        {
          "output_type": "stream",
          "name": "stdout",
          "text": [
            "5\n"
          ]
        }
      ]
    },
    {
      "cell_type": "code",
      "source": [
        "print(arr[0,1:])"
      ],
      "metadata": {
        "colab": {
          "base_uri": "https://localhost:8080/"
        },
        "id": "qwNbowsWKdxA",
        "outputId": "eba11ca7-5df6-4035-9a35-9e3a5d275d9d"
      },
      "execution_count": null,
      "outputs": [
        {
          "output_type": "stream",
          "name": "stdout",
          "text": [
            "[2 3]\n"
          ]
        }
      ]
    },
    {
      "cell_type": "code",
      "source": [
        "arr1 = np.array([[[\"a\",\"b\",\"b\"],[\"c\",\"d\",\"c\"]],[[\"e\",\"f\",\"f\"],[\"g\",\"h\",\"g\"]]])\n",
        "print(arr1[0])"
      ],
      "metadata": {
        "colab": {
          "base_uri": "https://localhost:8080/"
        },
        "id": "MbzF6bScKpzn",
        "outputId": "2a926255-8ee0-446f-9a12-624daafbe257"
      },
      "execution_count": null,
      "outputs": [
        {
          "output_type": "stream",
          "name": "stdout",
          "text": [
            "[['a' 'b' 'b']\n",
            " ['c' 'd' 'c']]\n"
          ]
        }
      ]
    },
    {
      "cell_type": "code",
      "source": [
        "print(arr1[1])"
      ],
      "metadata": {
        "colab": {
          "base_uri": "https://localhost:8080/"
        },
        "id": "NUm6ON-WLO7u",
        "outputId": "f471e824-2a3e-4422-d3ef-bd7f65df3f8c"
      },
      "execution_count": null,
      "outputs": [
        {
          "output_type": "stream",
          "name": "stdout",
          "text": [
            "[['e' 'f']\n",
            " ['g' 'h']]\n"
          ]
        }
      ]
    },
    {
      "cell_type": "code",
      "source": [
        "print(arr1[0,1])"
      ],
      "metadata": {
        "colab": {
          "base_uri": "https://localhost:8080/"
        },
        "id": "nsdbz9w6LS_L",
        "outputId": "fae05c61-f5eb-45f4-ff8c-1f0066fbb30c"
      },
      "execution_count": null,
      "outputs": [
        {
          "output_type": "stream",
          "name": "stdout",
          "text": [
            "['c' 'd']\n"
          ]
        }
      ]
    },
    {
      "cell_type": "code",
      "source": [
        "print(arr1[0,1,1])"
      ],
      "metadata": {
        "colab": {
          "base_uri": "https://localhost:8080/"
        },
        "id": "GA3G65b6LdhO",
        "outputId": "aa006eeb-928b-4df4-82b0-be6e70d1fd8c"
      },
      "execution_count": null,
      "outputs": [
        {
          "output_type": "stream",
          "name": "stdout",
          "text": [
            "d\n"
          ]
        }
      ]
    },
    {
      "cell_type": "code",
      "source": [
        "print(arr1[1,1,1:])"
      ],
      "metadata": {
        "colab": {
          "base_uri": "https://localhost:8080/"
        },
        "id": "lfh0atMZLykX",
        "outputId": "836d169f-a130-4236-9f28-9413e009b0cf"
      },
      "execution_count": null,
      "outputs": [
        {
          "output_type": "stream",
          "name": "stdout",
          "text": [
            "['h' 'g']\n"
          ]
        }
      ]
    },
    {
      "cell_type": "code",
      "source": [
        "print(arr1[-1,-2,-3])"
      ],
      "metadata": {
        "colab": {
          "base_uri": "https://localhost:8080/"
        },
        "id": "ATDoUF9NMGxd",
        "outputId": "08555c0c-e6ce-4fbc-d2fa-52c2ec5a4440"
      },
      "execution_count": null,
      "outputs": [
        {
          "output_type": "stream",
          "name": "stdout",
          "text": [
            "e\n"
          ]
        }
      ]
    },
    {
      "cell_type": "code",
      "source": [
        "# NUmpy array\n",
        "# pip install numpy"
      ],
      "metadata": {
        "id": "R7vj7Fn7afuk"
      },
      "execution_count": null,
      "outputs": []
    },
    {
      "cell_type": "markdown",
      "source": [
        "**Data Types in NumPy**\n",
        "\n",
        "NumPy has some extra data types, and refer to data types with one character, like i for integers, u for unsigned integers etc.\n",
        "\n",
        "Below is a list of all data types in NumPy and the characters used to represent them.\n",
        "\n",
        "i - integer\n",
        "\n",
        "b - boolean\n",
        "\n",
        "u - unsigned integer\n",
        "\n",
        "f - float\n",
        "\n",
        "c - complex float\n",
        "\n",
        "m - timedelta\n",
        "\n",
        "M - datetime\n",
        "\n",
        "O - object\n",
        "\n",
        "S - string\n",
        "\n",
        "U - unicode string\n",
        "\n",
        "V - fixed chunk of memory for other type ( void )"
      ],
      "metadata": {
        "id": "RncDx2PCYtee"
      }
    },
    {
      "cell_type": "markdown",
      "source": [
        "The NumPy array object has a property called **dtype** that returns the data type of the array"
      ],
      "metadata": {
        "id": "xw708hi_ZAhj"
      }
    },
    {
      "cell_type": "code",
      "source": [
        "import numpy as np\n",
        "\n",
        "arr = np.array([1, 2, 3, 4])\n",
        "\n",
        "print(arr.dtype)"
      ],
      "metadata": {
        "id": "IB5t97n-MhD2",
        "colab": {
          "base_uri": "https://localhost:8080/"
        },
        "outputId": "12244d91-3042-44d8-dd7c-a07d41488e05"
      },
      "execution_count": null,
      "outputs": [
        {
          "output_type": "stream",
          "name": "stdout",
          "text": [
            "int64\n"
          ]
        }
      ]
    },
    {
      "cell_type": "code",
      "source": [
        "import numpy as np\n",
        "\n",
        "arr = np.array(['apple', 'banana', 'cherry'])\n",
        "\n",
        "print(arr.dtype)"
      ],
      "metadata": {
        "colab": {
          "base_uri": "https://localhost:8080/"
        },
        "id": "FDpVyPFOZE6v",
        "outputId": "1af0101d-9830-4a6a-e95f-d9dab55fa13f"
      },
      "execution_count": null,
      "outputs": [
        {
          "output_type": "stream",
          "name": "stdout",
          "text": [
            "<U6\n"
          ]
        }
      ]
    },
    {
      "cell_type": "markdown",
      "source": [
        "**Creating Arrays With a Defined Data Type**\n",
        "\n",
        "We use the **array()** function to create arrays, this function can take an optional argument: **dtype** that allows us to define the expected data type of the array elements."
      ],
      "metadata": {
        "id": "KJJ-AEQYZWLR"
      }
    },
    {
      "cell_type": "code",
      "source": [
        "import numpy as np\n",
        "\n",
        "arr = np.array([1, 2, 3, 4], dtype='S')\n",
        "\n",
        "print(arr)\n",
        "print(arr.dtype)"
      ],
      "metadata": {
        "colab": {
          "base_uri": "https://localhost:8080/"
        },
        "id": "nI26_HWiZRu-",
        "outputId": "c4cc01a2-505d-4164-8ade-4518ef39ed0a"
      },
      "execution_count": null,
      "outputs": [
        {
          "output_type": "stream",
          "name": "stdout",
          "text": [
            "[b'1' b'2' b'3' b'4']\n",
            "|S1\n"
          ]
        }
      ]
    },
    {
      "cell_type": "code",
      "source": [
        "arr = np.array([1, 0, 3, 0], dtype='bool')\n",
        "\n",
        "print(arr)\n",
        "print(arr.dtype)"
      ],
      "metadata": {
        "colab": {
          "base_uri": "https://localhost:8080/"
        },
        "id": "Y0huTWgkcwZQ",
        "outputId": "81861b2d-e669-4968-cb4a-823646fd2a21"
      },
      "execution_count": null,
      "outputs": [
        {
          "output_type": "stream",
          "name": "stdout",
          "text": [
            "[ True False  True False]\n",
            "bool\n"
          ]
        }
      ]
    },
    {
      "cell_type": "code",
      "source": [
        "arr = np.array([1, 2, 3, 4], dtype='f')\n",
        "\n",
        "print(arr)\n",
        "print(arr.dtype)"
      ],
      "metadata": {
        "colab": {
          "base_uri": "https://localhost:8080/"
        },
        "id": "PWJqvkSXc7Ym",
        "outputId": "862695db-3309-4cc2-983e-fe9dc5b2f7d5"
      },
      "execution_count": null,
      "outputs": [
        {
          "output_type": "stream",
          "name": "stdout",
          "text": [
            "[1. 2. 3. 4.]\n",
            "float32\n"
          ]
        }
      ]
    },
    {
      "cell_type": "code",
      "source": [
        "arr = np.array([1.1, 2.9, 3.5, 4.7], dtype='i')\n",
        "\n",
        "print(arr)\n",
        "print(arr.dtype)"
      ],
      "metadata": {
        "colab": {
          "base_uri": "https://localhost:8080/"
        },
        "id": "6VaD8tXvdA7a",
        "outputId": "d529bd96-2d43-4561-d94d-837dd62aa062"
      },
      "execution_count": null,
      "outputs": [
        {
          "output_type": "stream",
          "name": "stdout",
          "text": [
            "[1 2 3 4]\n",
            "int32\n"
          ]
        }
      ]
    },
    {
      "cell_type": "markdown",
      "source": [
        "The **astype()** function creates a copy of the array, and allows you to specify the data type as a parameter."
      ],
      "metadata": {
        "id": "BJV3oxzCZmvk"
      }
    },
    {
      "cell_type": "code",
      "source": [
        "import numpy as np\n",
        "\n",
        "arr = np.array([1.1, 2.1, 3.1]) #original array\n",
        "\n",
        "newarr = arr.astype('bool') #updated array\n",
        "\n",
        "print(\"original array: \",arr)\n",
        "print(\"original array dtype: \",arr.dtype)\n",
        "print(\"updated array: \",newarr)\n",
        "print(\"updated array dtype: \",newarr.dtype)"
      ],
      "metadata": {
        "colab": {
          "base_uri": "https://localhost:8080/"
        },
        "id": "NrlEC6CIZlDk",
        "outputId": "d38bc9a4-2385-469a-d736-a8b09cd09427"
      },
      "execution_count": null,
      "outputs": [
        {
          "output_type": "stream",
          "name": "stdout",
          "text": [
            "original array:  [1.1 2.1 3.1]\n",
            "original array dtype:  float64\n",
            "updated array:  [ True  True  True]\n",
            "updated array dtype:  bool\n"
          ]
        }
      ]
    },
    {
      "cell_type": "code",
      "source": [
        "import numpy as np\n",
        "\n",
        "arr = np.array([1.1, 2.1, 3.1])\n",
        "\n",
        "newarr = arr.astype(int)\n",
        "\n",
        "print(newarr)\n",
        "print(newarr.dtype)"
      ],
      "metadata": {
        "colab": {
          "base_uri": "https://localhost:8080/"
        },
        "id": "YEseXhS3ZvHl",
        "outputId": "9a9b1b2e-3aed-4a0a-d57d-53d84f203691"
      },
      "execution_count": null,
      "outputs": [
        {
          "output_type": "stream",
          "name": "stdout",
          "text": [
            "[1 2 3]\n",
            "int64\n"
          ]
        }
      ]
    },
    {
      "cell_type": "code",
      "source": [
        "# COPY AND VIEW FUNCTIONS : used to copy an array\n",
        "\n",
        "# copy:  the copy is a new array. It owns the data. Any changes made to the original array does not affect the copy array.\n",
        "#  Any changes made to the copy array does not affect the original array.\n",
        "# copy() function\n",
        "# view : it is just view of the array. It does not owns the data. Any changes made to the original array will affect the view array and vise versa.\n",
        "# view() function"
      ],
      "metadata": {
        "id": "SpGiHcKSeT-j"
      },
      "execution_count": null,
      "outputs": []
    },
    {
      "cell_type": "code",
      "source": [
        "fruit = np.array(['apple','orange','kiwi'])\n",
        "print(\"Original array: \",fruit)\n",
        "\n",
        "new_fruit = fruit.copy()\n",
        "print(\"copy array: \",new_fruit)\n",
        "\n",
        "print(new_fruit.base)"
      ],
      "metadata": {
        "colab": {
          "base_uri": "https://localhost:8080/"
        },
        "id": "hKdhb5BOehgJ",
        "outputId": "3ea13391-51b6-4b51-bdbc-409deab035e1"
      },
      "execution_count": null,
      "outputs": [
        {
          "output_type": "stream",
          "name": "stdout",
          "text": [
            "Original array:  ['apple' 'orange' 'kiwi']\n",
            "copy array:  ['apple' 'orange' 'kiwi']\n",
            "None\n"
          ]
        }
      ]
    },
    {
      "cell_type": "code",
      "source": [
        "fruit[1]='cherry'\n",
        "print('after updation:')\n",
        "print('Original array: ',fruit)\n",
        "print('Copy array :',new_fruit)"
      ],
      "metadata": {
        "colab": {
          "base_uri": "https://localhost:8080/"
        },
        "id": "zutjfoUHf2eE",
        "outputId": "dd879f60-726b-4b7b-f6e5-3ed29243059a"
      },
      "execution_count": null,
      "outputs": [
        {
          "output_type": "stream",
          "name": "stdout",
          "text": [
            "after updation:\n",
            "Original array:  ['apple' 'cherry' 'kiwi']\n",
            "Copy array : ['apple' 'orange' 'kiwi']\n"
          ]
        }
      ]
    },
    {
      "cell_type": "code",
      "source": [
        "fruit = np.array(['apple','orange','kiwi'])\n",
        "print(\"Original array: \",fruit)\n",
        "\n",
        "new_fruit = fruit.view()\n",
        "print(\"view array: \",new_fruit)\n",
        "\n",
        "print(new_fruit.base)"
      ],
      "metadata": {
        "colab": {
          "base_uri": "https://localhost:8080/"
        },
        "id": "BaOdPkM2gP3r",
        "outputId": "b2b9d8c1-5eaa-4377-fdfa-892ddec1d2a2"
      },
      "execution_count": null,
      "outputs": [
        {
          "output_type": "stream",
          "name": "stdout",
          "text": [
            "Original array:  ['apple' 'orange' 'kiwi']\n",
            "view array:  ['apple' 'orange' 'kiwi']\n",
            "['apple' 'orange' 'kiwi']\n"
          ]
        }
      ]
    },
    {
      "cell_type": "code",
      "source": [
        "fruit[1]='cherry'\n",
        "print('after updation:')\n",
        "print('Original array: ',fruit)\n",
        "print('view array :',new_fruit)"
      ],
      "metadata": {
        "colab": {
          "base_uri": "https://localhost:8080/"
        },
        "id": "5S83NdN9g6Un",
        "outputId": "ad3b0205-cc8a-4c04-da9c-5f7e295911b4"
      },
      "execution_count": null,
      "outputs": [
        {
          "output_type": "stream",
          "name": "stdout",
          "text": [
            "after updation:\n",
            "Original array:  ['apple' 'cherry' 'kiwi']\n",
            "view array : ['apple' 'cherry' 'kiwi']\n"
          ]
        }
      ]
    },
    {
      "cell_type": "code",
      "source": [
        "new_fruit[1]='banana'\n",
        "print('AFTER UPDATION:')\n",
        "print('original array:',fruit)\n",
        "print('view array: ',new_fruit)"
      ],
      "metadata": {
        "colab": {
          "base_uri": "https://localhost:8080/"
        },
        "id": "FRY4VhHphG2Q",
        "outputId": "d6c68ed7-2bc1-4196-d0d7-80f603d12216"
      },
      "execution_count": null,
      "outputs": [
        {
          "output_type": "stream",
          "name": "stdout",
          "text": [
            "AFTER UPDATION:\n",
            "original array: ['apple' 'banana' 'kiwi']\n",
            "view array:  ['apple' 'banana' 'kiwi']\n"
          ]
        }
      ]
    },
    {
      "cell_type": "markdown",
      "source": [
        "NumPy array has the attribute **base** that returns **None** if the array owns the data.\n",
        "\n",
        "Otherwise, the base  attribute refers to the original object."
      ],
      "metadata": {
        "id": "fDsQGsfzh9Lg"
      }
    },
    {
      "cell_type": "code",
      "source": [
        "import numpy as np\n",
        "\n",
        "arr = np.array([1, 2, 3, 4, 5])\n",
        "\n",
        "x = arr.copy()\n",
        "y = arr.view()\n",
        "\n",
        "print(x.base)\n",
        "print(y.base)"
      ],
      "metadata": {
        "colab": {
          "base_uri": "https://localhost:8080/"
        },
        "id": "5Q72UsVJhbpK",
        "outputId": "97544010-0b4c-4efe-af3f-f2c37f427b92"
      },
      "execution_count": null,
      "outputs": [
        {
          "output_type": "stream",
          "name": "stdout",
          "text": [
            "None\n",
            "[1 2 3 4 5]\n"
          ]
        }
      ]
    },
    {
      "cell_type": "code",
      "source": [
        "# SHAPE OF AN ARRAY\n",
        "# It is the number of elements in each dimension.\n",
        "# Numpy array has an attribute called shape that returns the shape of an array. It returns a tuple with index having the number of corresponding elements."
      ],
      "metadata": {
        "id": "rwXL67lTisd-"
      },
      "execution_count": null,
      "outputs": []
    },
    {
      "cell_type": "code",
      "source": [
        "arr = np.array([1, 2, 3, 4, 5, 6])\n",
        "print(arr.shape)"
      ],
      "metadata": {
        "colab": {
          "base_uri": "https://localhost:8080/"
        },
        "id": "cOV-j41NjV6x",
        "outputId": "bcb04e0e-d03c-4813-b7ed-8b28222b36c6"
      },
      "execution_count": null,
      "outputs": [
        {
          "output_type": "stream",
          "name": "stdout",
          "text": [
            "(6,)\n"
          ]
        }
      ]
    },
    {
      "cell_type": "code",
      "source": [
        "arr1 = np.array([[1,2,3],[4,5,6]])  # 2 elements\n",
        "print(arr1)\n",
        "print(arr1.shape)"
      ],
      "metadata": {
        "colab": {
          "base_uri": "https://localhost:8080/"
        },
        "id": "DWhhW6cZj0SZ",
        "outputId": "e769ddc1-d33e-4086-a578-1b18185637b0"
      },
      "execution_count": null,
      "outputs": [
        {
          "output_type": "stream",
          "name": "stdout",
          "text": [
            "[[1 2 3]\n",
            " [4 5 6]]\n",
            "(2, 3)\n"
          ]
        }
      ]
    },
    {
      "cell_type": "code",
      "source": [
        "arr2 = np.array([[[1,2],[3,4]],[[1,2],[5,6]],[[5,6],[8,9]]]) #3 elements\n",
        "print(arr2.shape)  #(3,2,2)"
      ],
      "metadata": {
        "colab": {
          "base_uri": "https://localhost:8080/"
        },
        "id": "f0EKes4NkWHd",
        "outputId": "e16642cc-5972-43c5-d076-a3f59b68f59f"
      },
      "execution_count": null,
      "outputs": [
        {
          "output_type": "stream",
          "name": "stdout",
          "text": [
            "(3, 2, 2)\n"
          ]
        }
      ]
    },
    {
      "cell_type": "code",
      "source": [
        "arr3 = np.array([[[[1,2,3,4]]],[[[1,2,3,4]]]]) #2\n",
        "print(arr3.shape) #(2,1,1,4)"
      ],
      "metadata": {
        "colab": {
          "base_uri": "https://localhost:8080/"
        },
        "id": "HwW25Z-Xl6-6",
        "outputId": "1452c59b-2f28-43a0-c6be-f15b811a7d89"
      },
      "execution_count": null,
      "outputs": [
        {
          "output_type": "stream",
          "name": "stdout",
          "text": [
            "(2, 1, 1, 4)\n"
          ]
        }
      ]
    },
    {
      "cell_type": "code",
      "source": [
        "# Reshaping of an array : changing the shape of an array\n",
        "# reshape() function"
      ],
      "metadata": {
        "id": "Va2Ud74smyyp"
      },
      "execution_count": null,
      "outputs": []
    },
    {
      "cell_type": "code",
      "source": [
        "a = np.array([1,2,3,4,5,6,7,8,9,10,11,12])   #2D- 4*3 , 3*4, 6*2, 2*6, 1*12, 12*1   3d - (3,2,2), (2,3,2),(2,2,3),(4,3,1)\n",
        "print(a)\n",
        "print(a.shape)"
      ],
      "metadata": {
        "colab": {
          "base_uri": "https://localhost:8080/"
        },
        "id": "oMBfHTpKnKKz",
        "outputId": "c86400c9-50b1-4174-a7b6-a1292d7fe2e0"
      },
      "execution_count": null,
      "outputs": [
        {
          "output_type": "stream",
          "name": "stdout",
          "text": [
            "[ 1  2  3  4  5  6  7  8  9 10 11 12]\n",
            "(12,)\n"
          ]
        }
      ]
    },
    {
      "cell_type": "code",
      "source": [
        "new_a = a.reshape(4,3)\n",
        "new_a"
      ],
      "metadata": {
        "colab": {
          "base_uri": "https://localhost:8080/"
        },
        "id": "vK4MgkWrnavL",
        "outputId": "387e96f4-4c24-42db-d63e-e0ea499b3835"
      },
      "execution_count": null,
      "outputs": [
        {
          "output_type": "execute_result",
          "data": {
            "text/plain": [
              "array([[ 1,  2,  3],\n",
              "       [ 4,  5,  6],\n",
              "       [ 7,  8,  9],\n",
              "       [10, 11, 12]])"
            ]
          },
          "metadata": {},
          "execution_count": 60
        }
      ]
    },
    {
      "cell_type": "code",
      "source": [
        "new_a = a.reshape(2,6)\n",
        "new_a"
      ],
      "metadata": {
        "colab": {
          "base_uri": "https://localhost:8080/"
        },
        "id": "7F2TEmZpoQXX",
        "outputId": "266cd4e8-0425-46f6-df29-403cfbf62e71"
      },
      "execution_count": null,
      "outputs": [
        {
          "output_type": "execute_result",
          "data": {
            "text/plain": [
              "array([[ 1,  2,  3,  4,  5,  6],\n",
              "       [ 7,  8,  9, 10, 11, 12]])"
            ]
          },
          "metadata": {},
          "execution_count": 54
        }
      ]
    },
    {
      "cell_type": "code",
      "source": [
        "new_a = a.reshape(1,12)\n",
        "new_a"
      ],
      "metadata": {
        "colab": {
          "base_uri": "https://localhost:8080/"
        },
        "id": "z6fOcNLqoWUu",
        "outputId": "11ff169f-e5d0-4093-8332-b5cc719921c8"
      },
      "execution_count": null,
      "outputs": [
        {
          "output_type": "execute_result",
          "data": {
            "text/plain": [
              "array([[ 1,  2,  3,  4,  5,  6,  7,  8,  9, 10, 11, 12]])"
            ]
          },
          "metadata": {},
          "execution_count": 55
        }
      ]
    },
    {
      "cell_type": "code",
      "source": [
        "new_a = a.reshape(12,1,1,1)\n",
        "new_a"
      ],
      "metadata": {
        "id": "cNzUH2ENoarM"
      },
      "execution_count": null,
      "outputs": []
    },
    {
      "cell_type": "code",
      "source": [
        "new_a = a.reshape(4,3,1)\n",
        "new_a"
      ],
      "metadata": {
        "colab": {
          "base_uri": "https://localhost:8080/"
        },
        "id": "PZWSk9TkojrX",
        "outputId": "178df1ba-1989-4d04-c5b0-7a7d183bc9d9"
      },
      "execution_count": null,
      "outputs": [
        {
          "output_type": "execute_result",
          "data": {
            "text/plain": [
              "array([[[ 1],\n",
              "        [ 2],\n",
              "        [ 3]],\n",
              "\n",
              "       [[ 4],\n",
              "        [ 5],\n",
              "        [ 6]],\n",
              "\n",
              "       [[ 7],\n",
              "        [ 8],\n",
              "        [ 9]],\n",
              "\n",
              "       [[10],\n",
              "        [11],\n",
              "        [12]]])"
            ]
          },
          "metadata": {},
          "execution_count": 63
        }
      ]
    },
    {
      "cell_type": "code",
      "source": [
        "new_a = a.reshape(2,2,-1)\n",
        "new_a"
      ],
      "metadata": {
        "colab": {
          "base_uri": "https://localhost:8080/"
        },
        "id": "lS-rM-jjpRUz",
        "outputId": "7a91ad30-5830-485a-f10b-1890bd4fefdb"
      },
      "execution_count": null,
      "outputs": [
        {
          "output_type": "execute_result",
          "data": {
            "text/plain": [
              "array([[[ 1,  2,  3],\n",
              "        [ 4,  5,  6]],\n",
              "\n",
              "       [[ 7,  8,  9],\n",
              "        [10, 11, 12]]])"
            ]
          },
          "metadata": {},
          "execution_count": 65
        }
      ]
    },
    {
      "cell_type": "code",
      "source": [
        "new_a = a.reshape(4,-1)\n",
        "new_a"
      ],
      "metadata": {
        "colab": {
          "base_uri": "https://localhost:8080/"
        },
        "id": "qgzQpZm5pV0c",
        "outputId": "2dc20b9c-a3e9-4b65-f326-117b27a7bb86"
      },
      "execution_count": null,
      "outputs": [
        {
          "output_type": "execute_result",
          "data": {
            "text/plain": [
              "array([[ 1,  2,  3],\n",
              "       [ 4,  5,  6],\n",
              "       [ 7,  8,  9],\n",
              "       [10, 11, 12]])"
            ]
          },
          "metadata": {},
          "execution_count": 66
        }
      ]
    },
    {
      "cell_type": "code",
      "source": [
        "new_a = a.reshape(2,2,-1)\n",
        "new_a"
      ],
      "metadata": {
        "colab": {
          "base_uri": "https://localhost:8080/"
        },
        "id": "pRJbFYOPpmY7",
        "outputId": "31ce06c9-d5a6-4360-cd0e-9cb31cec8a94"
      },
      "execution_count": null,
      "outputs": [
        {
          "output_type": "execute_result",
          "data": {
            "text/plain": [
              "array([[[ 1,  2,  3],\n",
              "        [ 4,  5,  6]],\n",
              "\n",
              "       [[ 7,  8,  9],\n",
              "        [10, 11, 12]]])"
            ]
          },
          "metadata": {},
          "execution_count": 68
        }
      ]
    },
    {
      "cell_type": "code",
      "source": [
        "print(new_a.base)"
      ],
      "metadata": {
        "colab": {
          "base_uri": "https://localhost:8080/"
        },
        "id": "5uVzCvB4ppFt",
        "outputId": "daa45e5f-9df0-43a2-94ad-c7fdc260be03"
      },
      "execution_count": null,
      "outputs": [
        {
          "output_type": "stream",
          "name": "stdout",
          "text": [
            "[ 1  2  3  4  5  6  7  8  9 10 11 12]\n"
          ]
        }
      ]
    },
    {
      "cell_type": "code",
      "source": [
        "# MULTIDIMENSIONAL ARRAY TO 1-D ARRAY CONVERSION\n",
        "# reshape(-1)"
      ],
      "metadata": {
        "id": "kyA7TbYup6Hx"
      },
      "execution_count": null,
      "outputs": []
    },
    {
      "cell_type": "code",
      "source": [
        "b = np.array([[[1,2,3,4]],[[4,5,6,7]]])\n",
        "print(b.ndim)"
      ],
      "metadata": {
        "colab": {
          "base_uri": "https://localhost:8080/"
        },
        "id": "DnLn1cDNq5Gk",
        "outputId": "dd37235b-4407-44a2-a0fd-98383a1d2944"
      },
      "execution_count": null,
      "outputs": [
        {
          "output_type": "stream",
          "name": "stdout",
          "text": [
            "3\n"
          ]
        }
      ]
    },
    {
      "cell_type": "code",
      "source": [
        "b_one = b.reshape(-1)\n",
        "print(b_one)"
      ],
      "metadata": {
        "colab": {
          "base_uri": "https://localhost:8080/"
        },
        "id": "6Dr4G8Mtq_Wq",
        "outputId": "2ef89398-e93c-4136-eea8-6d15dbe28e3e"
      },
      "execution_count": null,
      "outputs": [
        {
          "output_type": "stream",
          "name": "stdout",
          "text": [
            "[1 2 3 4 4 5 6 7]\n"
          ]
        }
      ]
    },
    {
      "cell_type": "markdown",
      "source": [
        "**NumPy Array Iterating**\n",
        "\n",
        "Iterating means going through elements one by one.\n"
      ],
      "metadata": {
        "id": "pcCi3GyU0Zz_"
      }
    },
    {
      "cell_type": "code",
      "source": [
        "# Iterating 1-D Array\n",
        "import numpy as np\n",
        "\n",
        "arr = np.array([1, 2, 3])\n",
        "\n",
        "for x in arr:\n",
        "  print(x)"
      ],
      "metadata": {
        "id": "QS1sKFfX0RN-",
        "colab": {
          "base_uri": "https://localhost:8080/"
        },
        "outputId": "cf3c9ed5-69b8-41a1-c4c3-7e620fd939b9"
      },
      "execution_count": null,
      "outputs": [
        {
          "output_type": "stream",
          "name": "stdout",
          "text": [
            "1\n",
            "2\n",
            "3\n"
          ]
        }
      ]
    },
    {
      "cell_type": "code",
      "source": [
        "# Iterating 2-D Array\n",
        "import numpy as np\n",
        "\n",
        "arr = np.array([[1, 2, 3], [4, 5, 6]])\n",
        "\n",
        "for x in arr:\n",
        "  print(x)"
      ],
      "metadata": {
        "id": "hcLhYl_u0nFj",
        "colab": {
          "base_uri": "https://localhost:8080/"
        },
        "outputId": "f2da7d38-d629-4aed-df33-49304c5833d8"
      },
      "execution_count": null,
      "outputs": [
        {
          "output_type": "stream",
          "name": "stdout",
          "text": [
            "[1 2 3]\n",
            "[4 5 6]\n"
          ]
        }
      ]
    },
    {
      "cell_type": "code",
      "source": [
        "arr = np.array([[[1,2]],[[3,4]]])\n",
        "for i in arr:print(i)"
      ],
      "metadata": {
        "colab": {
          "base_uri": "https://localhost:8080/"
        },
        "id": "tFhvTKYexXf0",
        "outputId": "26bd1f99-2068-4e0d-a787-b157c7564793"
      },
      "execution_count": null,
      "outputs": [
        {
          "output_type": "stream",
          "name": "stdout",
          "text": [
            "[[1 2]]\n",
            "[[3 4]]\n"
          ]
        }
      ]
    },
    {
      "cell_type": "code",
      "source": [
        "# Iterate on a n-D array it will go through n-1th dimension one by one.\n",
        "import numpy as np\n",
        "\n",
        "arr = np.array([[1, 2, 3], [4, 5, 6]])\n",
        "\n",
        "for x in arr:\n",
        "  for y in x:\n",
        "    print(y)"
      ],
      "metadata": {
        "id": "d9SP3cPI05Ol",
        "colab": {
          "base_uri": "https://localhost:8080/"
        },
        "outputId": "24ea7ac7-4e7c-4a98-b802-1c11700a941a"
      },
      "execution_count": null,
      "outputs": [
        {
          "output_type": "stream",
          "name": "stdout",
          "text": [
            "1\n",
            "2\n",
            "3\n",
            "4\n",
            "5\n",
            "6\n"
          ]
        }
      ]
    },
    {
      "cell_type": "code",
      "source": [
        "# Iterating 3-D Array\n",
        "import numpy as np\n",
        "\n",
        "arr = np.array([[[1, 2, 3], [4, 5, 6]], [[7, 8, 9], [10, 11, 12]]])\n",
        "\n",
        "for x in arr:\n",
        "  for y in x:\n",
        "    for z in y:\n",
        "      print(z)"
      ],
      "metadata": {
        "id": "209EPvV10_Fp",
        "colab": {
          "base_uri": "https://localhost:8080/"
        },
        "outputId": "a24779ab-c22d-4d5e-daa1-e6e4facf480a"
      },
      "execution_count": null,
      "outputs": [
        {
          "output_type": "stream",
          "name": "stdout",
          "text": [
            "1\n",
            "2\n",
            "3\n",
            "4\n",
            "5\n",
            "6\n",
            "7\n",
            "8\n",
            "9\n",
            "10\n",
            "11\n",
            "12\n"
          ]
        }
      ]
    },
    {
      "cell_type": "code",
      "source": [
        "a = np.array([[[[[1,2,3,4,5]]]]])\n",
        "for i in a:\n",
        "  for j in i:\n",
        "    for k in j:\n",
        "      for l in k:\n",
        "        for g in l:\n",
        "          print(g)"
      ],
      "metadata": {
        "colab": {
          "base_uri": "https://localhost:8080/"
        },
        "id": "nmPX42ukyQ1n",
        "outputId": "90e135f3-e61c-4943-dd31-921076927b9d"
      },
      "execution_count": null,
      "outputs": [
        {
          "output_type": "stream",
          "name": "stdout",
          "text": [
            "1\n",
            "2\n",
            "3\n",
            "4\n",
            "5\n"
          ]
        }
      ]
    },
    {
      "cell_type": "markdown",
      "source": [
        "**Iterating Arrays Using nditer()**\n",
        "\n",
        "The function **nditer()** is a helping function that can be used from very basic to very advanced iterations. It solves some basic issues which we face in iteration."
      ],
      "metadata": {
        "id": "yMA35y0A1O28"
      }
    },
    {
      "cell_type": "code",
      "source": [
        "import numpy as np\n",
        "\n",
        "arr = np.array([[[[1, 2], [3, 4]], [[5, 6], [7, 8]]]])\n",
        "\n",
        "for x in np.nditer(arr):\n",
        "  print(x)"
      ],
      "metadata": {
        "id": "mtahfvx_1Fj0",
        "colab": {
          "base_uri": "https://localhost:8080/"
        },
        "outputId": "340b873e-35e5-451c-97b8-0426be6ee00f"
      },
      "execution_count": null,
      "outputs": [
        {
          "output_type": "stream",
          "name": "stdout",
          "text": [
            "1\n",
            "2\n",
            "3\n",
            "4\n",
            "5\n",
            "6\n",
            "7\n",
            "8\n"
          ]
        }
      ]
    },
    {
      "cell_type": "markdown",
      "source": [
        "**Enumerated Iteration Using ndenumerate()**\n",
        "\n",
        "Enumeration means mentioning sequence number of somethings one by one.\n",
        "\n",
        "Sometimes we require corresponding index of the element while iterating, the ndenumerate() method can be used for those usecases."
      ],
      "metadata": {
        "id": "5SHmlyCb1n2n"
      }
    },
    {
      "cell_type": "code",
      "source": [
        "import numpy as np\n",
        "\n",
        "arr = np.array([1, 2, 3])\n",
        "\n",
        "for idx, x in np.ndenumerate(arr):\n",
        "  print(idx, x)"
      ],
      "metadata": {
        "id": "GAAKx-ZI1Ztv",
        "colab": {
          "base_uri": "https://localhost:8080/"
        },
        "outputId": "f5ca47c0-9ea8-4414-da93-c193842fbfa8"
      },
      "execution_count": null,
      "outputs": [
        {
          "output_type": "stream",
          "name": "stdout",
          "text": [
            "(0,) 1\n",
            "(1,) 2\n",
            "(2,) 3\n"
          ]
        }
      ]
    },
    {
      "cell_type": "code",
      "source": [
        "import numpy as np\n",
        "\n",
        "arr = np.array([[1, 2, 3, 4], [5, 6, 7, 8]])\n",
        "for idx, x in np.ndenumerate(arr):\n",
        "  print(idx, x)"
      ],
      "metadata": {
        "id": "2KsP2zml1tfv",
        "colab": {
          "base_uri": "https://localhost:8080/"
        },
        "outputId": "3e2ac115-28f0-4263-e494-92361c13f84a"
      },
      "execution_count": null,
      "outputs": [
        {
          "output_type": "stream",
          "name": "stdout",
          "text": [
            "(0, 0) 1\n",
            "(0, 1) 2\n",
            "(0, 2) 3\n",
            "(0, 3) 4\n",
            "(1, 0) 5\n",
            "(1, 1) 6\n",
            "(1, 2) 7\n",
            "(1, 3) 8\n"
          ]
        }
      ]
    },
    {
      "cell_type": "markdown",
      "source": [
        "**NumPy Joining Array**\n",
        "\n",
        "Joining means putting contents of two or more arrays in a single array.\n",
        "\n",
        "We pass a sequence of arrays that we want to join to the concatenate() function, along with the axis. If axis is not explicitly passed, it is taken as 0."
      ],
      "metadata": {
        "id": "yt4zgMt92CgU"
      }
    },
    {
      "cell_type": "code",
      "source": [
        "# Join two arrays\n",
        "\n",
        "import numpy as np\n",
        "\n",
        "arr1 = np.array([1, 2, 3])\n",
        "\n",
        "arr2 = np.array([4, 5, 6])\n",
        "\n",
        "arr = np.concatenate((arr1, arr2),axis=0)\n",
        "\n",
        "print(arr)"
      ],
      "metadata": {
        "id": "bhrERVFd1vhU",
        "colab": {
          "base_uri": "https://localhost:8080/"
        },
        "outputId": "5d0ac1cf-47e2-42fe-8052-d949847364bb"
      },
      "execution_count": null,
      "outputs": [
        {
          "output_type": "stream",
          "name": "stdout",
          "text": [
            "[1 2 3 4 5 6]\n"
          ]
        }
      ]
    },
    {
      "cell_type": "code",
      "source": [
        "# Join two 2-D arrays along rows (axis=1):\n",
        "\n",
        "import numpy as np\n",
        "\n",
        "arr1 = np.array([[1, 2], [3, 4]])\n",
        "# print(arr1)\n",
        "\n",
        "arr2 = np.array([[5, 6], [7, 8]])\n",
        "\n",
        "arr = np.concatenate((arr1, arr2),axis=1)\n",
        "\n",
        "print(arr)"
      ],
      "metadata": {
        "id": "GCh_tQyZ2NaO",
        "colab": {
          "base_uri": "https://localhost:8080/"
        },
        "outputId": "f54a7374-8883-42ee-d130-2a6b53a8d4be"
      },
      "execution_count": null,
      "outputs": [
        {
          "output_type": "stream",
          "name": "stdout",
          "text": [
            "[[1 2]\n",
            " [3 4]]\n",
            "[[1 2 5 6]\n",
            " [3 4 7 8]]\n"
          ]
        }
      ]
    },
    {
      "cell_type": "markdown",
      "source": [
        "**Joining Arrays Using Stack Functions**\n",
        "\n",
        "Stacking is same as concatenation, the only difference is that stacking is done along a new axis.\n",
        "\n",
        "We can concatenate two 1-D arrays along the second axis which would result in putting them one over the other, ie. stacking.\n",
        "\n",
        "We pass a sequence of arrays that we want to join to the stack() method along with the axis. If axis is not explicitly passed it is taken as 0."
      ],
      "metadata": {
        "id": "gNa3Cuy-2Tzn"
      }
    },
    {
      "cell_type": "code",
      "source": [
        "import numpy as np\n",
        "\n",
        "arr1 = np.array([1, 2, 3])\n",
        "\n",
        "arr2 = np.array([4, 5, 6])\n",
        "\n",
        "arr = np.stack((arr1, arr2), axis=0)\n",
        "\n",
        "print(arr)"
      ],
      "metadata": {
        "id": "GMNQrhfu2QH1",
        "colab": {
          "base_uri": "https://localhost:8080/"
        },
        "outputId": "8593f2f3-abea-449b-9e1a-a05ed19d5f8a"
      },
      "execution_count": null,
      "outputs": [
        {
          "output_type": "stream",
          "name": "stdout",
          "text": [
            "[[1 2 3]\n",
            " [4 5 6]]\n"
          ]
        }
      ]
    },
    {
      "cell_type": "markdown",
      "source": [
        "**NumPy Splitting Array**\n",
        "\n",
        "Splitting is reverse operation of Joining.\n",
        "\n",
        "Joining merges multiple arrays into one and Splitting breaks one array into multiple.\n",
        "\n",
        "We use array_split() for splitting arrays, we pass it the array we want to split and the number of splits."
      ],
      "metadata": {
        "id": "7aL-lU4u2mha"
      }
    },
    {
      "cell_type": "code",
      "source": [
        "import numpy as np\n",
        "\n",
        "arr = np.array([1, 2, 3, 4, 5, 6, 7])\n",
        "\n",
        "newarr = np.array_split(arr, 3)\n",
        "\n",
        "print(newarr)\n",
        "print(newarr[0])\n",
        "print(newarr[1])\n",
        "print(newarr[2])"
      ],
      "metadata": {
        "id": "7b-xRfxh2dAs",
        "colab": {
          "base_uri": "https://localhost:8080/"
        },
        "outputId": "de6235c5-c669-4c0c-a57a-4bb94a183d83"
      },
      "execution_count": null,
      "outputs": [
        {
          "output_type": "stream",
          "name": "stdout",
          "text": [
            "[array([1, 2, 3]), array([4, 5]), array([6, 7])]\n",
            "[1 2 3]\n",
            "[4 5]\n",
            "[6 7]\n"
          ]
        }
      ]
    },
    {
      "cell_type": "code",
      "source": [
        "import numpy as np\n",
        "\n",
        "arr = np.array([1, 2, 3, 4, 5, 6])\n",
        "\n",
        "newarr = np.array_split(arr, 4)\n",
        "\n",
        "print(newarr)"
      ],
      "metadata": {
        "id": "kWlHXP4T2tB_",
        "colab": {
          "base_uri": "https://localhost:8080/"
        },
        "outputId": "37cfabab-911b-4b9a-8c48-3ee1d9bd9b32"
      },
      "execution_count": null,
      "outputs": [
        {
          "output_type": "stream",
          "name": "stdout",
          "text": [
            "[array([1, 2]), array([3, 4]), array([5]), array([6])]\n"
          ]
        }
      ]
    },
    {
      "cell_type": "code",
      "source": [
        "import numpy as np\n",
        "\n",
        "arr = np.array([1, 2, 3, 4, 5, 6])\n",
        "\n",
        "newarr = np.array_split(arr, 3)\n",
        "\n",
        "print(newarr[0])\n",
        "print(newarr[1])\n",
        "print(newarr[2])"
      ],
      "metadata": {
        "id": "7iPJ2ovA2viG"
      },
      "execution_count": null,
      "outputs": []
    },
    {
      "cell_type": "code",
      "source": [
        "arr = np.array([[1, 2], [3, 4], [5, 6], [7, 8], [9, 10], [11, 12]])\n",
        "\n",
        "newarr = np.array_split(arr, 2)\n",
        "\n",
        "print(newarr)\n",
        "# print(newarr[0])\n",
        "new = newarr[0]\n",
        "print(new[1])"
      ],
      "metadata": {
        "id": "Dcn5rOKd2yya",
        "colab": {
          "base_uri": "https://localhost:8080/"
        },
        "outputId": "bafb5e11-51c5-42ed-a60e-650ed1196585"
      },
      "execution_count": null,
      "outputs": [
        {
          "output_type": "stream",
          "name": "stdout",
          "text": [
            "[array([[1, 2],\n",
            "       [3, 4],\n",
            "       [5, 6]]), array([[ 7,  8],\n",
            "       [ 9, 10],\n",
            "       [11, 12]])]\n",
            "[3 4]\n"
          ]
        }
      ]
    },
    {
      "cell_type": "code",
      "source": [
        "arr = np.array([[1, 2, 3], [4, 5, 6], [7, 8, 9], [10, 11, 12], [13, 14, 15], [16, 17, 18]])\n",
        "print(arr)\n",
        "newarr = np.array_split(arr, 3, axis=1)\n",
        "\n",
        "print(newarr)"
      ],
      "metadata": {
        "id": "SfsrDadm24Of",
        "colab": {
          "base_uri": "https://localhost:8080/"
        },
        "outputId": "9bc5dadc-eef1-4198-d952-3fabcb436460"
      },
      "execution_count": null,
      "outputs": [
        {
          "output_type": "stream",
          "name": "stdout",
          "text": [
            "[[ 1  2  3]\n",
            " [ 4  5  6]\n",
            " [ 7  8  9]\n",
            " [10 11 12]\n",
            " [13 14 15]\n",
            " [16 17 18]]\n",
            "[array([[ 1],\n",
            "       [ 4],\n",
            "       [ 7],\n",
            "       [10],\n",
            "       [13],\n",
            "       [16]]), array([[ 2],\n",
            "       [ 5],\n",
            "       [ 8],\n",
            "       [11],\n",
            "       [14],\n",
            "       [17]]), array([[ 3],\n",
            "       [ 6],\n",
            "       [ 9],\n",
            "       [12],\n",
            "       [15],\n",
            "       [18]])]\n"
          ]
        }
      ]
    },
    {
      "cell_type": "markdown",
      "source": [
        "**NumPy Searching Arrays**\n",
        "\n",
        "Search an array for a certain value, and return the indexes that get a match.\n",
        "\n",
        "To search an array, use the where() method."
      ],
      "metadata": {
        "id": "Jab2BabB2-N3"
      }
    },
    {
      "cell_type": "code",
      "source": [
        "import numpy as np\n",
        "\n",
        "arr = np.array([1, 2, 3, 4, 5, 14, 24, 4])\n",
        "\n",
        "x = np.where(arr >= 10)\n",
        "\n",
        "print(x)"
      ],
      "metadata": {
        "id": "TBNyCJIc27Uv",
        "colab": {
          "base_uri": "https://localhost:8080/"
        },
        "outputId": "7bac3c2e-d260-43ba-fa33-01e1438b49c3"
      },
      "execution_count": null,
      "outputs": [
        {
          "output_type": "stream",
          "name": "stdout",
          "text": [
            "(array([5, 6]),)\n"
          ]
        }
      ]
    },
    {
      "cell_type": "code",
      "source": [
        "arr = np.array([10, 2, 3, 4, 50, 6, 7, 8])\n",
        "\n",
        "x = np.where(arr%2 == 1)\n",
        "\n",
        "print(x)"
      ],
      "metadata": {
        "id": "gtLbTF-F3Hp6",
        "colab": {
          "base_uri": "https://localhost:8080/"
        },
        "outputId": "69d1ccd7-2099-4f04-e715-2cb18bc10208"
      },
      "execution_count": null,
      "outputs": [
        {
          "output_type": "stream",
          "name": "stdout",
          "text": [
            "(array([2, 6]),)\n"
          ]
        }
      ]
    },
    {
      "cell_type": "markdown",
      "source": [
        "**Search Sorted**\n",
        "\n",
        "There is a method called **searchsorted()** which performs a binary search in the array, and returns the index where the specified value would be inserted to maintain the search order."
      ],
      "metadata": {
        "id": "VFP6paHC3O98"
      }
    },
    {
      "cell_type": "code",
      "source": [
        "import numpy as np\n",
        "\n",
        "arr = np.array([6, 7, 2, 8, 9])  # 2,6,7,8,9\n",
        "\n",
        "x = np.searchsorted(arr, 2)\n",
        "\n",
        "print(x)\n",
        "\n",
        "print(np.__version__)"
      ],
      "metadata": {
        "id": "O8-gNNlW3J2O",
        "colab": {
          "base_uri": "https://localhost:8080/"
        },
        "outputId": "c5986f39-6367-4b88-b884-1ea5e3a24f89"
      },
      "execution_count": null,
      "outputs": [
        {
          "output_type": "stream",
          "name": "stdout",
          "text": [
            "0\n",
            "1.22.4\n"
          ]
        }
      ]
    },
    {
      "cell_type": "code",
      "source": [
        "arr = np.array([1, 3, 5, 7])   # 1 3 5 6 7\n",
        "\n",
        "x = np.searchsorted(arr, [2, 4, 6])\n",
        "\n",
        "print(x)"
      ],
      "metadata": {
        "id": "K7jMxYnU3UoW",
        "colab": {
          "base_uri": "https://localhost:8080/"
        },
        "outputId": "c4027a9a-7b96-480a-f5ef-3c1c4ff8f08c"
      },
      "execution_count": null,
      "outputs": [
        {
          "output_type": "stream",
          "name": "stdout",
          "text": [
            "[1 2 3]\n"
          ]
        }
      ]
    },
    {
      "cell_type": "markdown",
      "source": [
        "**Sorting Arrays**\n",
        "\n",
        "Sorting means putting elements in an ordered sequence.\n",
        "\n",
        "Ordered sequence is any sequence that has an order corresponding to elements, like numeric or alphabetical, ascending or descending.\n",
        "\n",
        "The NumPy ndarray object has a function called sort(), that will sort a specified array."
      ],
      "metadata": {
        "id": "JHxE_f2W3cfA"
      }
    },
    {
      "cell_type": "code",
      "source": [
        "import numpy as np\n",
        "arr = np.array([3, 2, 0, 1])\n",
        "y = np.sort(arr)[::-1]\n",
        "# print(np.sort(arr))\n",
        "y\n"
      ],
      "metadata": {
        "id": "5bBgz9r63X2u",
        "colab": {
          "base_uri": "https://localhost:8080/"
        },
        "outputId": "542711aa-e74b-475a-ac80-bbbe59d9e024"
      },
      "execution_count": null,
      "outputs": [
        {
          "output_type": "execute_result",
          "data": {
            "text/plain": [
              "array([3, 2, 1, 0])"
            ]
          },
          "metadata": {},
          "execution_count": 7
        }
      ]
    },
    {
      "cell_type": "code",
      "source": [
        "arr = np.array(['banana', 'Cherry', 'apple'])\n",
        "print(np.sort(arr))"
      ],
      "metadata": {
        "id": "lmxamj043hR6",
        "colab": {
          "base_uri": "https://localhost:8080/"
        },
        "outputId": "cf51e8ab-d502-4607-de8c-abfed838e49c"
      },
      "execution_count": null,
      "outputs": [
        {
          "output_type": "stream",
          "name": "stdout",
          "text": [
            "['Cherry' 'apple' 'banana']\n"
          ]
        }
      ]
    },
    {
      "cell_type": "code",
      "source": [
        "arr = np.array([[3, 2, 4], [5, 0, 1]])\n",
        "print(np.sort(arr))"
      ],
      "metadata": {
        "id": "Rdddio7D3jxc",
        "colab": {
          "base_uri": "https://localhost:8080/"
        },
        "outputId": "d70053bd-f3c4-4a20-98f6-dd1439c98c31"
      },
      "execution_count": null,
      "outputs": [
        {
          "output_type": "stream",
          "name": "stdout",
          "text": [
            "[[2 3 4]\n",
            " [0 1 5]]\n"
          ]
        }
      ]
    },
    {
      "cell_type": "markdown",
      "source": [
        "**Filtering Arrays**\n",
        "\n",
        "Getting some elements out of an existing array and creating a new array out of them is called filtering.\n",
        "\n",
        "In NumPy, you filter an array using a boolean index list.\n",
        "\n",
        "A boolean index list is a list of booleans corresponding to indexes in the array."
      ],
      "metadata": {
        "id": "XkHPUO8Z3s5e"
      }
    },
    {
      "cell_type": "code",
      "source": [
        "import numpy as np\n",
        "\n",
        "arr = np.array([41, 42, 43, 44])\n",
        "\n",
        "x = [True, False, True, False]\n",
        "\n",
        "# array_name[boolean index list]\n",
        "newarr = arr[x]\n",
        "\n",
        "print(newarr)"
      ],
      "metadata": {
        "id": "Q4LjI0Ew3nLF",
        "colab": {
          "base_uri": "https://localhost:8080/"
        },
        "outputId": "71515a5e-8b3b-45b3-d0f9-309ee75a194d"
      },
      "execution_count": null,
      "outputs": [
        {
          "output_type": "stream",
          "name": "stdout",
          "text": [
            "[41 43]\n"
          ]
        }
      ]
    },
    {
      "cell_type": "code",
      "source": [
        "arr = np.array([41, 42, 43, 44])\n",
        "\n",
        "# Create an empty list\n",
        "filter_arr = []\n",
        "\n",
        "# go through each element in arr\n",
        "for element in arr:\n",
        "  # if the element is higher than 42, set the value to True, otherwise False:\n",
        "  if element > 42:\n",
        "    filter_arr.append(True)\n",
        "  else:\n",
        "    filter_arr.append(False)\n",
        "\n",
        "newarr = arr[filter_arr]\n",
        "\n",
        "print(filter_arr)\n",
        "print(newarr)"
      ],
      "metadata": {
        "id": "g0y8fX683xr1",
        "colab": {
          "base_uri": "https://localhost:8080/"
        },
        "outputId": "1594a1bc-0acc-4023-bcb9-8f8c3f98774e"
      },
      "execution_count": null,
      "outputs": [
        {
          "output_type": "stream",
          "name": "stdout",
          "text": [
            "[False, False, True, True]\n",
            "[43 44]\n"
          ]
        }
      ]
    },
    {
      "cell_type": "code",
      "source": [
        "arr = np.array([1, 2, 3, 4, 5, 6, 7])\n",
        "\n",
        "# Create an empty list\n",
        "filter_arr = []\n",
        "\n",
        "# go through each element in arr\n",
        "for element in arr:\n",
        "  # if the element is completely divisble by 2, set the value to True, otherwise False\n",
        "  if element % 2 == 0:\n",
        "    filter_arr.append(True)\n",
        "  else:\n",
        "    filter_arr.append(False)\n",
        "\n",
        "newarr = arr[filter_arr]\n",
        "\n",
        "print(filter_arr)\n",
        "print(newarr)"
      ],
      "metadata": {
        "id": "Ya6yYhPd33Lt",
        "colab": {
          "base_uri": "https://localhost:8080/"
        },
        "outputId": "002c7bcd-207b-4e92-b451-1fbc969abea0"
      },
      "execution_count": null,
      "outputs": [
        {
          "output_type": "stream",
          "name": "stdout",
          "text": [
            "[False, True, False, True, False, True, False]\n",
            "[2 4 6]\n"
          ]
        }
      ]
    },
    {
      "cell_type": "code",
      "source": [
        "arr = np.array([1, 2, 3, 4, 5, 6, 7])\n",
        "\n",
        "filter_arr = arr % 2 == 0   # boolean index list\n",
        "\n",
        "newarr = arr[filter_arr]\n",
        "\n",
        "print(filter_arr)\n",
        "print(newarr)"
      ],
      "metadata": {
        "id": "esRGdLK836-h",
        "colab": {
          "base_uri": "https://localhost:8080/"
        },
        "outputId": "443478c1-ccaf-432c-adfa-a81b6b0b632a"
      },
      "execution_count": null,
      "outputs": [
        {
          "output_type": "stream",
          "name": "stdout",
          "text": [
            "[False  True False  True False  True False]\n",
            "[2 4 6]\n"
          ]
        }
      ]
    },
    {
      "cell_type": "code",
      "source": [
        "new_arr = arr>3\n",
        "print(new_arr)\n",
        "\n",
        "print(arr[new_arr])"
      ],
      "metadata": {
        "colab": {
          "base_uri": "https://localhost:8080/"
        },
        "id": "mjtXuf_5CZ1y",
        "outputId": "b7244aab-2af2-425d-fa82-cf3a247b3883"
      },
      "execution_count": null,
      "outputs": [
        {
          "output_type": "stream",
          "name": "stdout",
          "text": [
            "[False False False  True  True  True  True]\n",
            "[4 5 6 7]\n"
          ]
        }
      ]
    },
    {
      "cell_type": "markdown",
      "source": [
        "**Numpy Random Module**\n",
        "\n",
        "Random number does NOT mean a different number every time. Random means something that can not be predicted logically.\n",
        "\n",
        "NumPy offers the random module to work with random numbers.\n",
        "\n",
        "The random module's **randint()** method returns a random integer."
      ],
      "metadata": {
        "id": "aGXdT5OB4WoT"
      }
    },
    {
      "cell_type": "code",
      "source": [
        "# Generate a random integer from 0 to 100:\n",
        "from numpy import random\n",
        "\n",
        "x = random.randint(100)  #0 - 99\n",
        "\n",
        "print(x)"
      ],
      "metadata": {
        "id": "d8DBtAfs4EHj",
        "colab": {
          "base_uri": "https://localhost:8080/"
        },
        "outputId": "62e58e0e-fc46-4521-ff19-6f5521621828"
      },
      "execution_count": null,
      "outputs": [
        {
          "output_type": "stream",
          "name": "stdout",
          "text": [
            "3\n"
          ]
        }
      ]
    },
    {
      "cell_type": "markdown",
      "source": [
        "**Generate Random Float**\n",
        "\n",
        "The random module's **rand()** method returns a random float between 0 and 1."
      ],
      "metadata": {
        "id": "_mR1fIQ34ut6"
      }
    },
    {
      "cell_type": "code",
      "source": [
        "# Generate a random float from 0 to 1:\n",
        "\n",
        "from numpy import random\n",
        "\n",
        "x = random.rand()\n",
        "\n",
        "print(x)"
      ],
      "metadata": {
        "id": "LKk1JmUp4i9L",
        "colab": {
          "base_uri": "https://localhost:8080/"
        },
        "outputId": "586b3b82-81cd-42c4-df02-daceac62db4e"
      },
      "execution_count": null,
      "outputs": [
        {
          "output_type": "stream",
          "name": "stdout",
          "text": [
            "0.8898619633266104\n"
          ]
        }
      ]
    },
    {
      "cell_type": "markdown",
      "source": [
        "The **randint()** method takes a size parameter where you can specify the shape of an array.\n"
      ],
      "metadata": {
        "id": "DlPc9YKF5Ilk"
      }
    },
    {
      "cell_type": "code",
      "source": [
        "# Generate a 1-D array containing 5 random integers from 0 to 100:\n",
        "\n",
        "from numpy import random\n",
        "\n",
        "x=random.randint(10, size=(5))  #1-D\n",
        "\n",
        "print(x)"
      ],
      "metadata": {
        "id": "SEvac_5T5Ajk",
        "colab": {
          "base_uri": "https://localhost:8080/"
        },
        "outputId": "25d19974-d33e-44e4-ab06-aa2239cf1721"
      },
      "execution_count": null,
      "outputs": [
        {
          "output_type": "stream",
          "name": "stdout",
          "text": [
            "[6 9 6 7 0]\n"
          ]
        }
      ]
    },
    {
      "cell_type": "code",
      "source": [
        "x = random.randint(100, size=(3, 5))\n",
        "\n",
        "print(x)"
      ],
      "metadata": {
        "id": "ljZuSuF75NI9",
        "colab": {
          "base_uri": "https://localhost:8080/"
        },
        "outputId": "e451ac35-4c66-42fb-ff77-aaba43c0f79c"
      },
      "execution_count": null,
      "outputs": [
        {
          "output_type": "stream",
          "name": "stdout",
          "text": [
            "[[66 27 52  2 30]\n",
            " [42 98 42 23  0]\n",
            " [55 81 43 33 84]]\n"
          ]
        }
      ]
    },
    {
      "cell_type": "code",
      "source": [
        "x = random.rand(3, 5, 2)  #2-d\n",
        "\n",
        "print(x)"
      ],
      "metadata": {
        "id": "JCbCwVP-5P3t",
        "colab": {
          "base_uri": "https://localhost:8080/"
        },
        "outputId": "410df252-73a3-4d29-bb08-fa1b01e3e689"
      },
      "execution_count": null,
      "outputs": [
        {
          "output_type": "stream",
          "name": "stdout",
          "text": [
            "[[[0.69260361 0.8250702 ]\n",
            "  [0.6381576  0.05851948]\n",
            "  [0.93393594 0.24638887]\n",
            "  [0.08274509 0.91826035]\n",
            "  [0.78130326 0.40476881]]\n",
            "\n",
            " [[0.98977583 0.23198801]\n",
            "  [0.15773131 0.65853608]\n",
            "  [0.56869126 0.31154593]\n",
            "  [0.73430721 0.90325592]\n",
            "  [0.81794088 0.71995188]]\n",
            "\n",
            " [[0.56646503 0.22314408]\n",
            "  [0.70401962 0.97045859]\n",
            "  [0.27656658 0.22077905]\n",
            "  [0.34756554 0.79592405]\n",
            "  [0.10968477 0.26598117]]]\n"
          ]
        }
      ]
    },
    {
      "cell_type": "markdown",
      "source": [
        "**Generate Random Number From Array**\n",
        "\n",
        "The **choice()** method allows you to generate a random value based on an array of values.\n",
        "\n",
        "The choice() method takes an array as a parameter and randomly returns one of the values."
      ],
      "metadata": {
        "id": "rczqf3Be5XlH"
      }
    },
    {
      "cell_type": "code",
      "source": [
        "x = random.choice([3, 5, 7, 9])\n",
        "\n",
        "print(x)"
      ],
      "metadata": {
        "id": "xYXQVTpW5UQ0",
        "colab": {
          "base_uri": "https://localhost:8080/"
        },
        "outputId": "0e5f79f4-42d1-4b48-fc89-759f68f1b853"
      },
      "execution_count": null,
      "outputs": [
        {
          "output_type": "stream",
          "name": "stdout",
          "text": [
            "9\n"
          ]
        }
      ]
    },
    {
      "cell_type": "code",
      "source": [
        "x = random.choice([3, 5, 7, 9], size=(3, 5))   # [0,0.7,0.2,0.1]\n",
        "\n",
        "print(x)"
      ],
      "metadata": {
        "id": "1oBh02eS5e_p",
        "colab": {
          "base_uri": "https://localhost:8080/"
        },
        "outputId": "481fca35-e239-4bd4-fc3d-1fbac0d5699a"
      },
      "execution_count": null,
      "outputs": [
        {
          "output_type": "stream",
          "name": "stdout",
          "text": [
            "[[7 5 7 3 3]\n",
            " [3 3 9 5 7]\n",
            " [9 7 5 3 9]]\n"
          ]
        }
      ]
    },
    {
      "cell_type": "markdown",
      "source": [
        "**Data Distribution**\n",
        "\n",
        "Data Distribution is a list of all possible values, and how often each value occurs.\n",
        "\n",
        "A random distribution is a set of random numbers that follow a certain probability density function.\n",
        "\n",
        "The choice() method allows us to specify the probability for each value.\n",
        "\n",
        "The probability is set by a number between 0 and 1, where 0 means that the value will never occur and 1 means that the value will always occur."
      ],
      "metadata": {
        "id": "ZwSq1t495sKF"
      }
    },
    {
      "cell_type": "code",
      "source": [
        "from numpy import random\n",
        "\n",
        "x = random.choice([3, 5, 7, 9], p=[0.1, 0.3, 0.6, 0.0], size=(10))\n",
        "\n",
        "print(x)"
      ],
      "metadata": {
        "id": "k30SAJSr5iAG",
        "colab": {
          "base_uri": "https://localhost:8080/"
        },
        "outputId": "7183ca4e-26f2-491c-be51-f036827f4ae2"
      },
      "execution_count": null,
      "outputs": [
        {
          "output_type": "stream",
          "name": "stdout",
          "text": [
            "[7 3 7 7 5 5 7 7 7 7]\n"
          ]
        }
      ]
    },
    {
      "cell_type": "code",
      "source": [
        "x = random.choice([3, 5, 7, 9], p=[0.1, 0.3, 0.0, 0.6], size=(3, 5))\n",
        "\n",
        "print(x)"
      ],
      "metadata": {
        "id": "kSDdChTZ556D",
        "colab": {
          "base_uri": "https://localhost:8080/"
        },
        "outputId": "c59d0a4a-57c3-4c38-dabc-e35fed0d1854"
      },
      "execution_count": null,
      "outputs": [
        {
          "output_type": "stream",
          "name": "stdout",
          "text": [
            "[[9 5 9 9 3]\n",
            " [9 9 5 9 3]\n",
            " [9 9 9 9 5]]\n"
          ]
        }
      ]
    },
    {
      "cell_type": "markdown",
      "source": [
        "**Random Permutations**\n",
        "\n",
        "The NumPy Random module provides two methods for this: shuffle() and permutation().\n",
        "\n",
        "**Shuffling Arrays**\n",
        "\n",
        "Shuffle means changing arrangement of elements in-place. i.e. in the array itself.\n",
        "\n",
        "The shuffle() method makes changes to the original array.\n",
        "\n",
        "Randomly shuffle elements of following array:\n"
      ],
      "metadata": {
        "id": "A6D3L58K6Bg1"
      }
    },
    {
      "cell_type": "code",
      "source": [
        "from numpy import random\n",
        "import numpy as np\n",
        "\n",
        "arr = np.array([1, 2, 3, 4, 5])\n",
        "\n",
        "random.shuffle(arr)\n",
        "\n",
        "print(arr)"
      ],
      "metadata": {
        "id": "SBlX17I_5-B5",
        "colab": {
          "base_uri": "https://localhost:8080/"
        },
        "outputId": "ca011886-67f5-4340-8df4-d2c2a68f999e"
      },
      "execution_count": null,
      "outputs": [
        {
          "output_type": "stream",
          "name": "stdout",
          "text": [
            "[4 5 2 1 3]\n"
          ]
        }
      ]
    },
    {
      "cell_type": "markdown",
      "source": [
        "The **permutation()** method returns a re-arranged array (and leaves the original array un-changed)."
      ],
      "metadata": {
        "id": "HkohnCgc6XtP"
      }
    },
    {
      "cell_type": "code",
      "source": [
        "# Generate a random permutation of elements of following array:\n",
        "\n",
        "from numpy import random\n",
        "import numpy as np\n",
        "\n",
        "arr = np.array([1, 2, 3, 4, 5])\n",
        "\n",
        "per_arr = random.permutation(arr)\n",
        "print(arr)\n",
        "print(per_arr)"
      ],
      "metadata": {
        "id": "QgAAgzM86PgZ",
        "colab": {
          "base_uri": "https://localhost:8080/"
        },
        "outputId": "1a8a2076-58f4-41c2-abd4-340e39e7a3e7"
      },
      "execution_count": null,
      "outputs": [
        {
          "output_type": "stream",
          "name": "stdout",
          "text": [
            "[1 2 3 4 5]\n",
            "[5 1 3 2 4]\n"
          ]
        }
      ]
    },
    {
      "cell_type": "markdown",
      "source": [
        "**STATISTICAL FUNCTIONS**\n",
        "\n",
        "**Mean** - The average value\n",
        "\n",
        "**Median** - The mid point value\n",
        "\n",
        "**Mode** - The most common value"
      ],
      "metadata": {
        "id": "w5raAC8C6nxU"
      }
    },
    {
      "cell_type": "code",
      "source": [
        "# NumPy mean() method to find the average speed:\n",
        "\n",
        "import numpy\n",
        "\n",
        "speed = [99,86,87,88,111,86,103,87,94,78,77,85,86]\n",
        "\n",
        "x = numpy.mean(speed)\n",
        "\n",
        "print(x)"
      ],
      "metadata": {
        "id": "IRsQGoXN6e3c",
        "colab": {
          "base_uri": "https://localhost:8080/"
        },
        "outputId": "bfd7b872-fb95-4e61-8bcd-0b5097f307dd"
      },
      "execution_count": null,
      "outputs": [
        {
          "output_type": "stream",
          "name": "stdout",
          "text": [
            "89.76923076923077\n"
          ]
        }
      ]
    },
    {
      "cell_type": "code",
      "source": [
        "#, N,umPy median() method to find the middle value\n",
        "# [7,2,9,5,1 6] ----> [1,2,5,6,7,9] --- > 6\n",
        "import numpy\n",
        "\n",
        "# speed = [99,86,87,88,111,86,103,87,94,78,77,85,86]\n",
        "\n",
        "# x = numpy.median(speed)\n",
        "\n",
        "x = numpy.median([7,2,9,5,6])\n",
        "\n",
        "print(x)"
      ],
      "metadata": {
        "id": "VJcWrPrT62d1",
        "colab": {
          "base_uri": "https://localhost:8080/"
        },
        "outputId": "45d0c4ca-d1a1-4b17-d5ec-5a4064f625c5"
      },
      "execution_count": null,
      "outputs": [
        {
          "output_type": "stream",
          "name": "stdout",
          "text": [
            "6.0\n"
          ]
        }
      ]
    },
    {
      "cell_type": "code",
      "source": [
        "# SciPy mode() method to find the number that appears the most:\n",
        "import warnings\n",
        "warnings.filterwarnings('ignore')\n",
        "\n",
        "from scipy import stats\n",
        "\n",
        "speed = [99,86,87,88,111,86,103,87,94,78,77,85,86]\n",
        "\n",
        "x = stats.mode(speed)\n",
        "\n",
        "print(x)"
      ],
      "metadata": {
        "id": "QDrV2KgX66o7",
        "colab": {
          "base_uri": "https://localhost:8080/"
        },
        "outputId": "54a9674d-ae48-4d44-8fa0-d1c015f88788"
      },
      "execution_count": null,
      "outputs": [
        {
          "output_type": "stream",
          "name": "stdout",
          "text": [
            "ModeResult(mode=array([86]), count=array([3]))\n"
          ]
        }
      ]
    },
    {
      "cell_type": "markdown",
      "source": [
        "**Standard Deviation**\n",
        "\n",
        "Standard deviation is a number that describes how spread out the values are.\n",
        "\n",
        "A low standard deviation means that most of the numbers are close to the mean (average) value.\n",
        "\n",
        "A high standard deviation means that the values are spread out over a wider range."
      ],
      "metadata": {
        "id": "-9jqsaqd7FO1"
      }
    },
    {
      "cell_type": "code",
      "source": [
        "# NumPy std() method to find the standard deviation:\n",
        "\n",
        "import numpy\n",
        "\n",
        "speed = [32,111,138,28,59,77,97]\n",
        "\n",
        "x = numpy.std(speed)\n",
        "\n",
        "print(x)"
      ],
      "metadata": {
        "id": "Ztigk8oT6-3d",
        "colab": {
          "base_uri": "https://localhost:8080/"
        },
        "outputId": "6a2b293b-cd1f-4d12-c10c-e73b1a4fc74c"
      },
      "execution_count": null,
      "outputs": [
        {
          "output_type": "stream",
          "name": "stdout",
          "text": [
            "37.84501153334721\n"
          ]
        }
      ]
    },
    {
      "cell_type": "markdown",
      "source": [
        "**Variance**\n",
        "\n",
        "Variance is another number that indicates how spread out the values are.\n",
        "\n",
        "The square root of the variance is standard deviation."
      ],
      "metadata": {
        "id": "dHx7X6Gb7Q7k"
      }
    },
    {
      "cell_type": "code",
      "source": [
        "# NumPy var() method to find the variance:\n",
        "\n",
        "import numpy\n",
        "\n",
        "speed = [32,111,138,28,59,77,97]\n",
        "\n",
        "x = numpy.var(speed)\n",
        "\n",
        "print(x)"
      ],
      "metadata": {
        "id": "-AYmcp-G7K3N",
        "colab": {
          "base_uri": "https://localhost:8080/"
        },
        "outputId": "49615674-dda3-4f84-e11a-6994f9f8618f"
      },
      "execution_count": null,
      "outputs": [
        {
          "output_type": "stream",
          "name": "stdout",
          "text": [
            "1432.2448979591834\n"
          ]
        }
      ]
    },
    {
      "cell_type": "code",
      "source": [
        "from math import sqrt\n",
        "sqrt(x)"
      ],
      "metadata": {
        "colab": {
          "base_uri": "https://localhost:8080/"
        },
        "id": "9HrimsMJLGU5",
        "outputId": "08c8a998-2444-43ff-eb0d-85acdf07b38b"
      },
      "execution_count": null,
      "outputs": [
        {
          "output_type": "execute_result",
          "data": {
            "text/plain": [
              "37.84501153334721"
            ]
          },
          "metadata": {},
          "execution_count": 115
        }
      ]
    },
    {
      "cell_type": "markdown",
      "source": [
        "# **Percentiles**\n",
        "\n",
        "Percentiles are used in statistics to give you a number that describes the value that a given percent of the values are lower than."
      ],
      "metadata": {
        "id": "PFwjgZq27jKt"
      }
    },
    {
      "cell_type": "code",
      "source": [
        "# NumPy percentile() method to find the percentiles:\n",
        "\n",
        "import numpy\n",
        "\n",
        "ages = [5,31,43,48,50,41,7,11,15,39,80,82,32,2,8,6,25,36,27,61,31]\n",
        "\n",
        "x = numpy.percentile(ages, 80)\n",
        "\n",
        "print(x)"
      ],
      "metadata": {
        "id": "LHvL7wPK7bkf",
        "colab": {
          "base_uri": "https://localhost:8080/"
        },
        "outputId": "9b193558-ef8c-4525-86fa-9edf8d18ef5f"
      },
      "execution_count": null,
      "outputs": [
        {
          "output_type": "stream",
          "name": "stdout",
          "text": [
            "48.0\n"
          ]
        }
      ]
    },
    {
      "cell_type": "code",
      "source": [
        "ages = [5,31,43,48,50,41,7,11,15,39,80,82,32,2,8,6,25,36,27,61,31]\n",
        "\n",
        "x = numpy.percentile(ages, 90)\n",
        "\n",
        "print(x)"
      ],
      "metadata": {
        "id": "4TVgyOM27v7_",
        "colab": {
          "base_uri": "https://localhost:8080/"
        },
        "outputId": "e26f7416-0795-4ed1-b807-94dc2b4aee78"
      },
      "execution_count": null,
      "outputs": [
        {
          "output_type": "stream",
          "name": "stdout",
          "text": [
            "61.0\n"
          ]
        }
      ]
    },
    {
      "cell_type": "code",
      "source": [
        "# [0 0 0 0 0 0 0 0 0 0]\n",
        "# zeros()\n",
        "\n",
        "x = np.zeros((2,6),dtype=int)\n",
        "print(x)\n",
        "print(x.dtype)"
      ],
      "metadata": {
        "colab": {
          "base_uri": "https://localhost:8080/"
        },
        "id": "8TdhLQwkL9V5",
        "outputId": "2f858a86-9e7e-45d6-c8e0-2d668a52727a"
      },
      "execution_count": null,
      "outputs": [
        {
          "output_type": "stream",
          "name": "stdout",
          "text": [
            "[[0 0 0 0 0 0]\n",
            " [0 0 0 0 0 0]]\n",
            "int64\n"
          ]
        }
      ]
    },
    {
      "cell_type": "code",
      "source": [
        "y = np.ones((2,3),dtype=int)\n",
        "print(y)"
      ],
      "metadata": {
        "colab": {
          "base_uri": "https://localhost:8080/"
        },
        "id": "pMMRaEjyMaO2",
        "outputId": "ed182d89-5442-46c9-ef5b-a865d958c359"
      },
      "execution_count": null,
      "outputs": [
        {
          "output_type": "stream",
          "name": "stdout",
          "text": [
            "[[1 1 1]\n",
            " [1 1 1]]\n"
          ]
        }
      ]
    },
    {
      "cell_type": "code",
      "source": [
        "# linspace : generate a numpy array wih specified start and end(inclusive), number of values\n",
        "\n",
        "z = np.linspace(0,2,5)\n",
        "print(z)"
      ],
      "metadata": {
        "colab": {
          "base_uri": "https://localhost:8080/"
        },
        "id": "wg3mcgGQM10Y",
        "outputId": "d42c78ec-4756-40b6-d86c-2a6563c3e6f9"
      },
      "execution_count": null,
      "outputs": [
        {
          "output_type": "stream",
          "name": "stdout",
          "text": [
            "[0.  0.5 1.  1.5 2. ]\n"
          ]
        }
      ]
    },
    {
      "cell_type": "code",
      "source": [
        "# sum\n",
        "\n",
        "ar = np.array([1,2,3,4])\n",
        "sum_ar = np.sum(ar)\n",
        "sum_ar"
      ],
      "metadata": {
        "colab": {
          "base_uri": "https://localhost:8080/"
        },
        "id": "0M3Da7eBNPl2",
        "outputId": "c4959b14-f6fe-4dc7-9166-ac1ff6030312"
      },
      "execution_count": null,
      "outputs": [
        {
          "output_type": "execute_result",
          "data": {
            "text/plain": [
              "10"
            ]
          },
          "metadata": {},
          "execution_count": 131
        }
      ]
    },
    {
      "cell_type": "code",
      "source": [
        "# max\n",
        "\n",
        "ar = np.array([1,2,3,4])\n",
        "max_ar = np.max(ar)\n",
        "max_ar"
      ],
      "metadata": {
        "colab": {
          "base_uri": "https://localhost:8080/"
        },
        "id": "utwJxIcVNyt_",
        "outputId": "ab51b551-8cc1-4b7a-8f79-85259ec641d0"
      },
      "execution_count": null,
      "outputs": [
        {
          "output_type": "execute_result",
          "data": {
            "text/plain": [
              "4"
            ]
          },
          "metadata": {},
          "execution_count": 132
        }
      ]
    },
    {
      "cell_type": "code",
      "source": [
        "# min\n",
        "\n",
        "ar = np.array([1,2,3,4])\n",
        "min_ar = np.min(ar)\n",
        "min_ar"
      ],
      "metadata": {
        "colab": {
          "base_uri": "https://localhost:8080/"
        },
        "id": "nOxvvQ7DN9EX",
        "outputId": "854bb654-070b-42d6-a52b-772ae5602072"
      },
      "execution_count": null,
      "outputs": [
        {
          "output_type": "execute_result",
          "data": {
            "text/plain": [
              "1"
            ]
          },
          "metadata": {},
          "execution_count": 133
        }
      ]
    },
    {
      "cell_type": "code",
      "source": [],
      "metadata": {
        "id": "CSiDcA8LOCSV"
      },
      "execution_count": null,
      "outputs": []
    }
  ]
}