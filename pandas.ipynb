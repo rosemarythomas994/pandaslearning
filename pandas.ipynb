{
  "nbformat": 4,
  "nbformat_minor": 0,
  "metadata": {
    "colab": {
      "provenance": [],
      "authorship_tag": "ABX9TyOX3FM7yqrcKAjL+4W7oCe8",
      "include_colab_link": true
    },
    "kernelspec": {
      "name": "python3",
      "display_name": "Python 3"
    },
    "language_info": {
      "name": "python"
    }
  },
  "cells": [
    {
      "cell_type": "markdown",
      "metadata": {
        "id": "view-in-github",
        "colab_type": "text"
      },
      "source": [
        "<a href=\"https://colab.research.google.com/github/rosemarythomas994/pandaslearning/blob/main/pandas.ipynb\" target=\"_parent\"><img src=\"https://colab.research.google.com/assets/colab-badge.svg\" alt=\"Open In Colab\"/></a>"
      ]
    },
    {
      "cell_type": "code",
      "execution_count": null,
      "metadata": {
        "colab": {
          "base_uri": "https://localhost:8080/"
        },
        "id": "1mJjKzohq8Gs",
        "outputId": "e24e2e50-ef37-47a2-b642-72401a81322b"
      },
      "outputs": [
        {
          "output_type": "stream",
          "name": "stdout",
          "text": [
            "enter a number5\n",
            "enter a number6\n",
            "11\n"
          ]
        }
      ],
      "source": [
        "a=int(input(\"enter a number\"))\n",
        "b=int(input(\"enter a number\"))\n",
        "c=a+b\n",
        "print(c)"
      ]
    },
    {
      "cell_type": "markdown",
      "source": [
        "  pands is a python library\n",
        "\n",
        "  pandas is a pyhton library used for working wth data sets\n",
        "\n",
        "  it has functions for analysing, cleaning, exploring, and manipulatinf data.\n",
        "\n",
        "**Pandas Installation**\n",
        "\n",
        " pip install pandas\n",
        "\n",
        " TWO METHODS:\n",
        "\n",
        "**1. Series()**\n",
        "\n",
        "**2. Dataframe()**"
      ],
      "metadata": {
        "id": "2rZScxlb9e2F"
      }
    },
    {
      "cell_type": "markdown",
      "source": [
        "**Series**\n",
        "\n",
        "A pandas Series is like a column in a table\n",
        "\n",
        "it is a one- dimensional array holding data of any type.\n"
      ],
      "metadata": {
        "id": "OLOojZ5B93Xu"
      }
    },
    {
      "cell_type": "code",
      "source": [
        "import pandas as pd\n",
        "a = [10,70,12,30]\n",
        "myvar = pd.Series(a)\n",
        "print(myvar)"
      ],
      "metadata": {
        "colab": {
          "base_uri": "https://localhost:8080/"
        },
        "id": "aNKh3Lld-JBG",
        "outputId": "0f958f5d-82d6-44e9-aa16-703bf92fb741"
      },
      "execution_count": 2,
      "outputs": [
        {
          "output_type": "stream",
          "name": "stdout",
          "text": [
            "0    10\n",
            "1    70\n",
            "2    12\n",
            "3    30\n",
            "dtype: int64\n"
          ]
        }
      ]
    },
    {
      "cell_type": "markdown",
      "source": [
        "**Labels**\n",
        "\n",
        "If nothing else is specified, the values are labeled with their index number. first value has index 0, second value has index 1., etc.\n",
        "\n",
        "This label can be used to access a specified value."
      ],
      "metadata": {
        "id": "168_lSWt-Y2X"
      }
    },
    {
      "cell_type": "code",
      "source": [
        "#Return the first value of the Series:\n",
        "print(myvar[2])"
      ],
      "metadata": {
        "colab": {
          "base_uri": "https://localhost:8080/"
        },
        "id": "2whExaJh-2S_",
        "outputId": "78ee1531-64ac-47fc-9e1c-c3750d21b4e1"
      },
      "execution_count": 3,
      "outputs": [
        {
          "output_type": "stream",
          "name": "stdout",
          "text": [
            "12\n"
          ]
        }
      ]
    },
    {
      "cell_type": "markdown",
      "source": [
        "**Create Labels ** With the **Index** arguments, you can name you own labels.\n"
      ],
      "metadata": {
        "id": "uQaa4wLbBMt-"
      }
    },
    {
      "cell_type": "code",
      "source": [
        "a= [10,70,12,30]\n",
        "myvar = pd.Series(a, index = [\"a\",\"b\",\"c\",\"d\"])\n",
        "print(myvar)"
      ],
      "metadata": {
        "colab": {
          "base_uri": "https://localhost:8080/"
        },
        "id": "Pe-VGMOTBZTU",
        "outputId": "86224266-b84f-4d46-b353-ce96ea85d935"
      },
      "execution_count": 4,
      "outputs": [
        {
          "output_type": "stream",
          "name": "stdout",
          "text": [
            "a    10\n",
            "b    70\n",
            "c    12\n",
            "d    30\n",
            "dtype: int64\n"
          ]
        }
      ]
    },
    {
      "cell_type": "code",
      "source": [
        "# Return the value of \"y\":\n",
        "print(myvar[\"b\"])"
      ],
      "metadata": {
        "colab": {
          "base_uri": "https://localhost:8080/"
        },
        "id": "rUXSYqD3BpPm",
        "outputId": "870f2b5d-d099-4774-f010-210ed7ce06ea"
      },
      "execution_count": 5,
      "outputs": [
        {
          "output_type": "stream",
          "name": "stdout",
          "text": [
            "70\n"
          ]
        }
      ]
    },
    {
      "cell_type": "markdown",
      "source": [],
      "metadata": {
        "id": "eIlmR-wNBzL7"
      }
    }
  ]
}