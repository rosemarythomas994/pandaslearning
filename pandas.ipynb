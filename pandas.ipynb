{
  "nbformat": 4,
  "nbformat_minor": 0,
  "metadata": {
    "colab": {
      "provenance": [],
      "authorship_tag": "ABX9TyPPYLEjUqpDtCKdKqbHLp0v",
      "include_colab_link": true
    },
    "kernelspec": {
      "name": "python3",
      "display_name": "Python 3"
    },
    "language_info": {
      "name": "python"
    }
  },
  "cells": [
    {
      "cell_type": "markdown",
      "metadata": {
        "id": "view-in-github",
        "colab_type": "text"
      },
      "source": [
        "<a href=\"https://colab.research.google.com/github/rosemarythomas994/pandaslearning/blob/main/pandas.ipynb\" target=\"_parent\"><img src=\"https://colab.research.google.com/assets/colab-badge.svg\" alt=\"Open In Colab\"/></a>"
      ]
    },
    {
      "cell_type": "code",
      "execution_count": null,
      "metadata": {
        "colab": {
          "base_uri": "https://localhost:8080/"
        },
        "id": "1mJjKzohq8Gs",
        "outputId": "e24e2e50-ef37-47a2-b642-72401a81322b"
      },
      "outputs": [
        {
          "output_type": "stream",
          "name": "stdout",
          "text": [
            "enter a number5\n",
            "enter a number6\n",
            "11\n"
          ]
        }
      ],
      "source": [
        "a=int(input(\"enter a number\"))\n",
        "b=int(input(\"enter a number\"))\n",
        "c=a+b\n",
        "print(c)"
      ]
    },
    {
      "cell_type": "markdown",
      "source": [
        "  pands is a python library\n",
        "\n",
        "  pandas is a pyhton library used for working wth data sets\n",
        "\n",
        "  it has functions for analysing, cleaning, exploring, and manipulatinf data.\n",
        "\n",
        "**Pandas Installation**\n",
        "\n",
        " pip install pandas\n",
        "\n",
        " TWO METHODS:\n",
        "\n",
        "**1. Series()**\n",
        "\n",
        "**2. Dataframe()**"
      ],
      "metadata": {
        "id": "2rZScxlb9e2F"
      }
    },
    {
      "cell_type": "markdown",
      "source": [
        "**Series**\n",
        "\n",
        "A pandas Series is like a column in a table\n",
        "\n",
        "it is a one- dimensional array holding data of any type.\n"
      ],
      "metadata": {
        "id": "OLOojZ5B93Xu"
      }
    },
    {
      "cell_type": "code",
      "source": [
        "import pandas as pd\n",
        "a = [10,70,12,30]\n",
        "myvar = pd.Series(a)\n",
        "print(myvar)"
      ],
      "metadata": {
        "colab": {
          "base_uri": "https://localhost:8080/"
        },
        "id": "aNKh3Lld-JBG",
        "outputId": "0f958f5d-82d6-44e9-aa16-703bf92fb741"
      },
      "execution_count": 2,
      "outputs": [
        {
          "output_type": "stream",
          "name": "stdout",
          "text": [
            "0    10\n",
            "1    70\n",
            "2    12\n",
            "3    30\n",
            "dtype: int64\n"
          ]
        }
      ]
    },
    {
      "cell_type": "markdown",
      "source": [
        "**Labels**\n",
        "\n",
        "If nothing else is specified, the values are labeled with their index number. first value has index 0, second value has index 1., etc.\n",
        "\n",
        "This label can be used to access a specified value."
      ],
      "metadata": {
        "id": "168_lSWt-Y2X"
      }
    },
    {
      "cell_type": "code",
      "source": [
        "#Return the first value of the Series:\n",
        "print(myvar[2])"
      ],
      "metadata": {
        "colab": {
          "base_uri": "https://localhost:8080/"
        },
        "id": "2whExaJh-2S_",
        "outputId": "78ee1531-64ac-47fc-9e1c-c3750d21b4e1"
      },
      "execution_count": 3,
      "outputs": [
        {
          "output_type": "stream",
          "name": "stdout",
          "text": [
            "12\n"
          ]
        }
      ]
    },
    {
      "cell_type": "markdown",
      "source": [
        "**Create Labels ** With the **Index** arguments, you can name you own labels.\n"
      ],
      "metadata": {
        "id": "uQaa4wLbBMt-"
      }
    },
    {
      "cell_type": "code",
      "source": [
        "a= [10,70,12,30]\n",
        "myvar = pd.Series(a, index = [\"a\",\"b\",\"c\",\"d\"])\n",
        "print(myvar)"
      ],
      "metadata": {
        "colab": {
          "base_uri": "https://localhost:8080/"
        },
        "id": "Pe-VGMOTBZTU",
        "outputId": "86224266-b84f-4d46-b353-ce96ea85d935"
      },
      "execution_count": 4,
      "outputs": [
        {
          "output_type": "stream",
          "name": "stdout",
          "text": [
            "a    10\n",
            "b    70\n",
            "c    12\n",
            "d    30\n",
            "dtype: int64\n"
          ]
        }
      ]
    },
    {
      "cell_type": "code",
      "source": [
        "# Return the value of \"y\":\n",
        "print(myvar[\"b\"])"
      ],
      "metadata": {
        "colab": {
          "base_uri": "https://localhost:8080/"
        },
        "id": "rUXSYqD3BpPm",
        "outputId": "870f2b5d-d099-4774-f010-210ed7ce06ea"
      },
      "execution_count": 5,
      "outputs": [
        {
          "output_type": "stream",
          "name": "stdout",
          "text": [
            "70\n"
          ]
        }
      ]
    },
    {
      "cell_type": "markdown",
      "source": [
        "### **Key/values objects as Series**"
      ],
      "metadata": {
        "id": "eIlmR-wNBzL7"
      }
    },
    {
      "cell_type": "code",
      "source": [
        "calories = {\"day1\": 420, \"day2\": 380, \"day3\": 390}\n",
        "myvar = pd.Series(calories)\n",
        "print(myvar)"
      ],
      "metadata": {
        "colab": {
          "base_uri": "https://localhost:8080/"
        },
        "id": "1F0fyl0HCIK_",
        "outputId": "4b17fdea-1133-485a-89ba-79a6da09cee4"
      },
      "execution_count": 6,
      "outputs": [
        {
          "output_type": "stream",
          "name": "stdout",
          "text": [
            "day1    420\n",
            "day2    380\n",
            "day3    390\n",
            "dtype: int64\n"
          ]
        }
      ]
    },
    {
      "cell_type": "code",
      "source": [
        "myvar[\"day2\"]"
      ],
      "metadata": {
        "colab": {
          "base_uri": "https://localhost:8080/"
        },
        "id": "d6tOz66bCopz",
        "outputId": "5ad787e1-ee97-46ae-c2f8-cbb58ad75fb3"
      },
      "execution_count": 7,
      "outputs": [
        {
          "output_type": "execute_result",
          "data": {
            "text/plain": [
              "380"
            ]
          },
          "metadata": {},
          "execution_count": 7
        }
      ]
    },
    {
      "cell_type": "markdown",
      "source": [
        "The key of the dictionary become the labels."
      ],
      "metadata": {
        "id": "e6-u8KreCdWL"
      }
    },
    {
      "cell_type": "code",
      "source": [
        "calories = {\"day1\": 420, \"day2\": 380, \"day3\": 390}\n",
        "myvar = pd.Series(calories,index =[\"day1\",\"day2\"])\n",
        "print(myvar)"
      ],
      "metadata": {
        "colab": {
          "base_uri": "https://localhost:8080/"
        },
        "id": "aYRqhFrHClIU",
        "outputId": "dce6c654-9030-4b19-f0ac-f3c4b45b14a9"
      },
      "execution_count": 8,
      "outputs": [
        {
          "output_type": "stream",
          "name": "stdout",
          "text": [
            "day1    420\n",
            "day2    380\n",
            "dtype: int64\n"
          ]
        }
      ]
    },
    {
      "cell_type": "markdown",
      "source": [
        "## **DataFrame**\n",
        "\n",
        "A pandas DataFrame is a 2 dimentional data structure, like a 2 dimentional array, or a table with rows and columns\n",
        "\n"
      ],
      "metadata": {
        "id": "ghsh7CrLDPAu"
      }
    },
    {
      "cell_type": "code",
      "source": [
        "data ={\n",
        "    \"prince\": [420,380,390],\n",
        "    \"kg\":[50,40,45]\n",
        "}\n",
        "#Load data into a Dataframe object\n",
        "df = pd.DataFrame(data)\n",
        "print(df)"
      ],
      "metadata": {
        "colab": {
          "base_uri": "https://localhost:8080/"
        },
        "id": "J_Q_ioYuDw0n",
        "outputId": "b10c3913-b1d1-4448-ea1e-8e832fc18ac3"
      },
      "execution_count": 9,
      "outputs": [
        {
          "output_type": "stream",
          "name": "stdout",
          "text": [
            "   prince  kg\n",
            "0     420  50\n",
            "1     380  40\n",
            "2     390  45\n"
          ]
        }
      ]
    },
    {
      "cell_type": "markdown",
      "source": [
        "**Locate Rows**\n",
        "\n",
        "Pandas use the loc attribute to return one or more specified row(s)\n",
        "\n",
        "it return a pandas Series"
      ],
      "metadata": {
        "id": "V0SNbCrdFCSR"
      }
    },
    {
      "cell_type": "code",
      "source": [
        "print(df.loc[0])\n"
      ],
      "metadata": {
        "colab": {
          "base_uri": "https://localhost:8080/"
        },
        "id": "koKKMa11FGVx",
        "outputId": "03012ed8-0781-453a-fb41-4d0c7e5570e7"
      },
      "execution_count": 10,
      "outputs": [
        {
          "output_type": "stream",
          "name": "stdout",
          "text": [
            "prince    420\n",
            "kg         50\n",
            "Name: 0, dtype: int64\n"
          ]
        }
      ]
    },
    {
      "cell_type": "markdown",
      "source": [
        "**Named Indexes**\n",
        "\n",
        "With the **Index** arguments, we can name our own indexes.\n",
        "\n"
      ],
      "metadata": {
        "id": "a3_WYNMwFZW0"
      }
    },
    {
      "cell_type": "code",
      "source": [
        "fruits ={\n",
        "    \"name\":[\"apple\",\"kiwi\",\"pineapple\"],\n",
        "    \"color\":[\"red\",\"green\",\"yellow\"],\n",
        "    \"prince\":[120,200,45]\n",
        "}\n",
        "df=pd.DataFrame(fruits, index =[\"day1\",\"day2\",\"day3\"])\n",
        "print(df)\n"
      ],
      "metadata": {
        "colab": {
          "base_uri": "https://localhost:8080/"
        },
        "id": "NAoit6loF2zz",
        "outputId": "142cd235-4e0c-4ae1-cb53-9e91eee1cfdf"
      },
      "execution_count": 15,
      "outputs": [
        {
          "output_type": "stream",
          "name": "stdout",
          "text": [
            "           name   color  prince\n",
            "day1      apple     red     120\n",
            "day2       kiwi   green     200\n",
            "day3  pineapple  yellow      45\n"
          ]
        }
      ]
    },
    {
      "cell_type": "markdown",
      "source": [
        "**Locate Named Indexes**\n",
        "\n",
        "Use the names index in the loc attribute to return the specified rows(s)\n"
      ],
      "metadata": {
        "id": "VqIQWPIgGYok"
      }
    },
    {
      "cell_type": "code",
      "source": [
        "print(df.loc[\"day2\"])\n"
      ],
      "metadata": {
        "colab": {
          "base_uri": "https://localhost:8080/"
        },
        "id": "cCp9wT31GrMo",
        "outputId": "c745db3e-2616-4e5c-90ce-1fbc1ed8296c"
      },
      "execution_count": 16,
      "outputs": [
        {
          "output_type": "stream",
          "name": "stdout",
          "text": [
            "name       kiwi\n",
            "color     green\n",
            "prince      200\n",
            "Name: day2, dtype: object\n"
          ]
        }
      ]
    },
    {
      "cell_type": "code",
      "source": [
        "df.loc[\"day2\":\"day3\"]"
      ],
      "metadata": {
        "colab": {
          "base_uri": "https://localhost:8080/",
          "height": 112
        },
        "id": "OkUUcvqsG78F",
        "outputId": "f1d4348e-f123-4439-b520-64f588e62222"
      },
      "execution_count": 17,
      "outputs": [
        {
          "output_type": "execute_result",
          "data": {
            "text/plain": [
              "           name   color  prince\n",
              "day2       kiwi   green     200\n",
              "day3  pineapple  yellow      45"
            ],
            "text/html": [
              "\n",
              "  <div id=\"df-dc574073-c954-4ac9-9c2e-5b3497e4839d\" class=\"colab-df-container\">\n",
              "    <div>\n",
              "<style scoped>\n",
              "    .dataframe tbody tr th:only-of-type {\n",
              "        vertical-align: middle;\n",
              "    }\n",
              "\n",
              "    .dataframe tbody tr th {\n",
              "        vertical-align: top;\n",
              "    }\n",
              "\n",
              "    .dataframe thead th {\n",
              "        text-align: right;\n",
              "    }\n",
              "</style>\n",
              "<table border=\"1\" class=\"dataframe\">\n",
              "  <thead>\n",
              "    <tr style=\"text-align: right;\">\n",
              "      <th></th>\n",
              "      <th>name</th>\n",
              "      <th>color</th>\n",
              "      <th>prince</th>\n",
              "    </tr>\n",
              "  </thead>\n",
              "  <tbody>\n",
              "    <tr>\n",
              "      <th>day2</th>\n",
              "      <td>kiwi</td>\n",
              "      <td>green</td>\n",
              "      <td>200</td>\n",
              "    </tr>\n",
              "    <tr>\n",
              "      <th>day3</th>\n",
              "      <td>pineapple</td>\n",
              "      <td>yellow</td>\n",
              "      <td>45</td>\n",
              "    </tr>\n",
              "  </tbody>\n",
              "</table>\n",
              "</div>\n",
              "    <div class=\"colab-df-buttons\">\n",
              "\n",
              "  <div class=\"colab-df-container\">\n",
              "    <button class=\"colab-df-convert\" onclick=\"convertToInteractive('df-dc574073-c954-4ac9-9c2e-5b3497e4839d')\"\n",
              "            title=\"Convert this dataframe to an interactive table.\"\n",
              "            style=\"display:none;\">\n",
              "\n",
              "  <svg xmlns=\"http://www.w3.org/2000/svg\" height=\"24px\" viewBox=\"0 -960 960 960\">\n",
              "    <path d=\"M120-120v-720h720v720H120Zm60-500h600v-160H180v160Zm220 220h160v-160H400v160Zm0 220h160v-160H400v160ZM180-400h160v-160H180v160Zm440 0h160v-160H620v160ZM180-180h160v-160H180v160Zm440 0h160v-160H620v160Z\"/>\n",
              "  </svg>\n",
              "    </button>\n",
              "\n",
              "  <style>\n",
              "    .colab-df-container {\n",
              "      display:flex;\n",
              "      gap: 12px;\n",
              "    }\n",
              "\n",
              "    .colab-df-convert {\n",
              "      background-color: #E8F0FE;\n",
              "      border: none;\n",
              "      border-radius: 50%;\n",
              "      cursor: pointer;\n",
              "      display: none;\n",
              "      fill: #1967D2;\n",
              "      height: 32px;\n",
              "      padding: 0 0 0 0;\n",
              "      width: 32px;\n",
              "    }\n",
              "\n",
              "    .colab-df-convert:hover {\n",
              "      background-color: #E2EBFA;\n",
              "      box-shadow: 0px 1px 2px rgba(60, 64, 67, 0.3), 0px 1px 3px 1px rgba(60, 64, 67, 0.15);\n",
              "      fill: #174EA6;\n",
              "    }\n",
              "\n",
              "    .colab-df-buttons div {\n",
              "      margin-bottom: 4px;\n",
              "    }\n",
              "\n",
              "    [theme=dark] .colab-df-convert {\n",
              "      background-color: #3B4455;\n",
              "      fill: #D2E3FC;\n",
              "    }\n",
              "\n",
              "    [theme=dark] .colab-df-convert:hover {\n",
              "      background-color: #434B5C;\n",
              "      box-shadow: 0px 1px 3px 1px rgba(0, 0, 0, 0.15);\n",
              "      filter: drop-shadow(0px 1px 2px rgba(0, 0, 0, 0.3));\n",
              "      fill: #FFFFFF;\n",
              "    }\n",
              "  </style>\n",
              "\n",
              "    <script>\n",
              "      const buttonEl =\n",
              "        document.querySelector('#df-dc574073-c954-4ac9-9c2e-5b3497e4839d button.colab-df-convert');\n",
              "      buttonEl.style.display =\n",
              "        google.colab.kernel.accessAllowed ? 'block' : 'none';\n",
              "\n",
              "      async function convertToInteractive(key) {\n",
              "        const element = document.querySelector('#df-dc574073-c954-4ac9-9c2e-5b3497e4839d');\n",
              "        const dataTable =\n",
              "          await google.colab.kernel.invokeFunction('convertToInteractive',\n",
              "                                                    [key], {});\n",
              "        if (!dataTable) return;\n",
              "\n",
              "        const docLinkHtml = 'Like what you see? Visit the ' +\n",
              "          '<a target=\"_blank\" href=https://colab.research.google.com/notebooks/data_table.ipynb>data table notebook</a>'\n",
              "          + ' to learn more about interactive tables.';\n",
              "        element.innerHTML = '';\n",
              "        dataTable['output_type'] = 'display_data';\n",
              "        await google.colab.output.renderOutput(dataTable, element);\n",
              "        const docLink = document.createElement('div');\n",
              "        docLink.innerHTML = docLinkHtml;\n",
              "        element.appendChild(docLink);\n",
              "      }\n",
              "    </script>\n",
              "  </div>\n",
              "\n",
              "\n",
              "<div id=\"df-8e953e0d-02de-427a-b99d-43907ff0a02c\">\n",
              "  <button class=\"colab-df-quickchart\" onclick=\"quickchart('df-8e953e0d-02de-427a-b99d-43907ff0a02c')\"\n",
              "            title=\"Suggest charts.\"\n",
              "            style=\"display:none;\">\n",
              "\n",
              "<svg xmlns=\"http://www.w3.org/2000/svg\" height=\"24px\"viewBox=\"0 0 24 24\"\n",
              "     width=\"24px\">\n",
              "    <g>\n",
              "        <path d=\"M19 3H5c-1.1 0-2 .9-2 2v14c0 1.1.9 2 2 2h14c1.1 0 2-.9 2-2V5c0-1.1-.9-2-2-2zM9 17H7v-7h2v7zm4 0h-2V7h2v10zm4 0h-2v-4h2v4z\"/>\n",
              "    </g>\n",
              "</svg>\n",
              "  </button>\n",
              "\n",
              "<style>\n",
              "  .colab-df-quickchart {\n",
              "      --bg-color: #E8F0FE;\n",
              "      --fill-color: #1967D2;\n",
              "      --hover-bg-color: #E2EBFA;\n",
              "      --hover-fill-color: #174EA6;\n",
              "      --disabled-fill-color: #AAA;\n",
              "      --disabled-bg-color: #DDD;\n",
              "  }\n",
              "\n",
              "  [theme=dark] .colab-df-quickchart {\n",
              "      --bg-color: #3B4455;\n",
              "      --fill-color: #D2E3FC;\n",
              "      --hover-bg-color: #434B5C;\n",
              "      --hover-fill-color: #FFFFFF;\n",
              "      --disabled-bg-color: #3B4455;\n",
              "      --disabled-fill-color: #666;\n",
              "  }\n",
              "\n",
              "  .colab-df-quickchart {\n",
              "    background-color: var(--bg-color);\n",
              "    border: none;\n",
              "    border-radius: 50%;\n",
              "    cursor: pointer;\n",
              "    display: none;\n",
              "    fill: var(--fill-color);\n",
              "    height: 32px;\n",
              "    padding: 0;\n",
              "    width: 32px;\n",
              "  }\n",
              "\n",
              "  .colab-df-quickchart:hover {\n",
              "    background-color: var(--hover-bg-color);\n",
              "    box-shadow: 0 1px 2px rgba(60, 64, 67, 0.3), 0 1px 3px 1px rgba(60, 64, 67, 0.15);\n",
              "    fill: var(--button-hover-fill-color);\n",
              "  }\n",
              "\n",
              "  .colab-df-quickchart-complete:disabled,\n",
              "  .colab-df-quickchart-complete:disabled:hover {\n",
              "    background-color: var(--disabled-bg-color);\n",
              "    fill: var(--disabled-fill-color);\n",
              "    box-shadow: none;\n",
              "  }\n",
              "\n",
              "  .colab-df-spinner {\n",
              "    border: 2px solid var(--fill-color);\n",
              "    border-color: transparent;\n",
              "    border-bottom-color: var(--fill-color);\n",
              "    animation:\n",
              "      spin 1s steps(1) infinite;\n",
              "  }\n",
              "\n",
              "  @keyframes spin {\n",
              "    0% {\n",
              "      border-color: transparent;\n",
              "      border-bottom-color: var(--fill-color);\n",
              "      border-left-color: var(--fill-color);\n",
              "    }\n",
              "    20% {\n",
              "      border-color: transparent;\n",
              "      border-left-color: var(--fill-color);\n",
              "      border-top-color: var(--fill-color);\n",
              "    }\n",
              "    30% {\n",
              "      border-color: transparent;\n",
              "      border-left-color: var(--fill-color);\n",
              "      border-top-color: var(--fill-color);\n",
              "      border-right-color: var(--fill-color);\n",
              "    }\n",
              "    40% {\n",
              "      border-color: transparent;\n",
              "      border-right-color: var(--fill-color);\n",
              "      border-top-color: var(--fill-color);\n",
              "    }\n",
              "    60% {\n",
              "      border-color: transparent;\n",
              "      border-right-color: var(--fill-color);\n",
              "    }\n",
              "    80% {\n",
              "      border-color: transparent;\n",
              "      border-right-color: var(--fill-color);\n",
              "      border-bottom-color: var(--fill-color);\n",
              "    }\n",
              "    90% {\n",
              "      border-color: transparent;\n",
              "      border-bottom-color: var(--fill-color);\n",
              "    }\n",
              "  }\n",
              "</style>\n",
              "\n",
              "  <script>\n",
              "    async function quickchart(key) {\n",
              "      const quickchartButtonEl =\n",
              "        document.querySelector('#' + key + ' button');\n",
              "      quickchartButtonEl.disabled = true;  // To prevent multiple clicks.\n",
              "      quickchartButtonEl.classList.add('colab-df-spinner');\n",
              "      try {\n",
              "        const charts = await google.colab.kernel.invokeFunction(\n",
              "            'suggestCharts', [key], {});\n",
              "      } catch (error) {\n",
              "        console.error('Error during call to suggestCharts:', error);\n",
              "      }\n",
              "      quickchartButtonEl.classList.remove('colab-df-spinner');\n",
              "      quickchartButtonEl.classList.add('colab-df-quickchart-complete');\n",
              "    }\n",
              "    (() => {\n",
              "      let quickchartButtonEl =\n",
              "        document.querySelector('#df-8e953e0d-02de-427a-b99d-43907ff0a02c button');\n",
              "      quickchartButtonEl.style.display =\n",
              "        google.colab.kernel.accessAllowed ? 'block' : 'none';\n",
              "    })();\n",
              "  </script>\n",
              "</div>\n",
              "    </div>\n",
              "  </div>\n"
            ]
          },
          "metadata": {},
          "execution_count": 17
        }
      ]
    }
  ]
}