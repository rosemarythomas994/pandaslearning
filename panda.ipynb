{
  "nbformat": 4,
  "nbformat_minor": 0,
  "metadata": {
    "colab": {
      "provenance": [],
      "authorship_tag": "ABX9TyPvuJFfglPK9TEllcSYL6Et",
      "include_colab_link": true
    },
    "kernelspec": {
      "name": "python3",
      "display_name": "Python 3"
    },
    "language_info": {
      "name": "python"
    }
  },
  "cells": [
    {
      "cell_type": "markdown",
      "metadata": {
        "id": "view-in-github",
        "colab_type": "text"
      },
      "source": [
        "<a href=\"https://colab.research.google.com/github/rosemarythomas994/pandaslearning/blob/main/panda.ipynb\" target=\"_parent\"><img src=\"https://colab.research.google.com/assets/colab-badge.svg\" alt=\"Open In Colab\"/></a>"
      ]
    },
    {
      "cell_type": "markdown",
      "source": [
        "## **1. Data reading and wriitng:**\n",
        "**pd.read_csv()**: Read data from a CSV file into a DataFrame.\n",
        "\n",
        "**pd.read_excel()**: Read data from an Excel file into a DataFrame.\n",
        "\n",
        "**df.to_csv()**: Write a DataFrame to a CSV file\n",
        "\n",
        "**df.to_excel()**: Write a DataFrame to an Excel file\n",
        "\n",
        "**df.read_json()**: Write a DataFrame to an JSON file."
      ],
      "metadata": {
        "id": "oXLOXhsuAtoK"
      }
    },
    {
      "cell_type": "markdown",
      "source": [
        "# **2. Data Exploration and Manipulation:**\n",
        "\n",
        "**df.head()**: View the first n rows of the DataFrame\n",
        "\n",
        "**df.tail()**: View the last n rows of the DataFrame.\n",
        "\n",
        "**df.info()**: Get information about the DataFrame, including data types and null values.\n",
        "\n",
        "**df.describe()**: Generate descriptive statistics of the DataFrame\n",
        "\n",
        "**df.shape**: Get the dimensions (rows, columns) of the DataFrame.\n",
        "\n",
        "**df.columns**: Get the column names of the DataFrame.\n",
        "\n",
        "**df.index** : Get the index range of the DataFrame.\n",
        "\n",
        "**df.groupby()**: Group the DataFrame by one or more columns.\n",
        "\n",
        "**df.sort_values()**: Sort the DataFrame by one or more columns."
      ],
      "metadata": {
        "id": "i8thFwPlBbbm"
      }
    },
    {
      "cell_type": "markdown",
      "source": [
        "# **3. Data Selection and Filtering:**\n",
        "\n",
        "**df[column]**: Access a column in the DataFrame.\n",
        "\n",
        "**df.loc[row_indexer, column_indexer]**: Access rows and columns by label-based indexing.\n",
        "\n",
        "**df.iloc[row_indexer, column_indexer]**: Access rows and columns by, integer-based indexing.\n",
        "\n",
        "**df.query()**: Filter rows based on a condition.\n",
        "\n",
        "# **4. Data Cleaning and Transformation:**\n",
        "\n",
        "**df.dropna()**: Remove rows or columns with missing values.\n",
        "\n",
        "**df.fillna()**: Fill missing values with a specified value or method.\n",
        "\n",
        "**df.replace()**: Replace values in the DataFrame with other values.\\n\",\n",
        "        \"\\n\",\n",
        "        \"**df.rename()**: Rename columns in the DataFrame.\\n\",\n",
        "        \"\\n\",\n",
        "        \"**df.drop()**: Drop specified rows or columns from the DataFrame.\\n\",\n",
        "        \"\\n\",\n",
        "        \"#5. Aggregation and Calculation:\\n\",\n",
        "        \"\\n\",\n",
        "        \"**df.groupby().aggregate()**: Apply aggregate functions (e.g., sum, mean, count) to grouped data.\\n\",\n",
        "        \"\\n\",\n",
        "        \"**df.apply()**: Apply a function to each element, row, or column of the DataFrame.\\n\",\n",
        "        \"\\n\",\n",
        "        \"**df.sum(), df.mean(), df.min(), df.max()**: Calculate the sum, mean, minimum, maximum, etc., of the DataFrame or selected columns.\"\n",
        "      ],"
      ],
      "metadata": {
        "id": "6y2-Z5oyB98x"
      }
    }
  ]
}